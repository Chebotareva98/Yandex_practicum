{
 "cells": [
  {
   "cell_type": "markdown",
   "metadata": {},
   "source": [
    "# Проверка гипотез по увеличению выручки интернет-магазина"
   ]
  },
  {
   "cell_type": "markdown",
   "metadata": {},
   "source": [
    "## Описание проекта"
   ]
  },
  {
   "cell_type": "markdown",
   "metadata": {},
   "source": [
    "Аналитика крупного интернет-магазина. Вместе с отделом маркетинга мы подготовили список гипотез для увеличения выручки.\n",
    "Необходимо приоритизировать гипотезы, запустить A/B-тест и проанализировать результаты."
   ]
  },
  {
   "cell_type": "markdown",
   "metadata": {},
   "source": [
    "## Описание данных"
   ]
  },
  {
   "cell_type": "markdown",
   "metadata": {},
   "source": [
    "hypothesis\n",
    "\n",
    "* Hypothesis — краткое описание гипотезы;\n",
    "* Reach — охват пользователей по 10-балльной шкале;\n",
    "* Impact — влияние на пользователей по 10-балльной шкале;\n",
    "* Confidence — уверенность в гипотезе по 10-балльной шкале;\n",
    "* Efforts — затраты ресурсов на проверку гипотезы по 10-балльной шкале. Чем больше значение Efforts, тем дороже проверка гипотезы."
   ]
  },
  {
   "cell_type": "markdown",
   "metadata": {},
   "source": [
    "orders\n",
    "\n",
    "* transactionId — идентификатор заказа;\n",
    "* visitorId — идентификатор пользователя, совершившего заказ;\n",
    "* date — дата, когда был совершён заказ;\n",
    "* revenue — выручка заказа;\n",
    "* group — группа A/B-теста, в которую попал заказ."
   ]
  },
  {
   "cell_type": "markdown",
   "metadata": {},
   "source": [
    "visitors\n",
    "\n",
    "* date — дата;\n",
    "* group — группа A/B-теста;\n",
    "* visitors — количество пользователей в указанную дату в указанной группе A/B-теста"
   ]
  },
  {
   "cell_type": "code",
   "execution_count": 1,
   "metadata": {},
   "outputs": [],
   "source": [
    "import pandas as pd\n",
    "import numpy as np\n",
    "import matplotlib.pyplot as plt\n",
    "import matplotlib.ticker as ticker\n",
    "import matplotlib.dates as mdates\n",
    "import seaborn as sns\n",
    "from scipy import stats as st\n",
    "import scipy.stats as stats\n",
    "from datetime import date, time, timedelta\n",
    "from tqdm import tqdm\n",
    "import sys\n",
    "import warnings\n",
    "if not sys.warnoptions:\n",
    "       warnings.simplefilter(\"ignore\")"
   ]
  },
  {
   "cell_type": "code",
   "execution_count": 2,
   "metadata": {},
   "outputs": [],
   "source": [
    "try:\n",
    "    hypothesis = pd.read_csv('/datasets/hypothesis.csv')\n",
    "except :\n",
    "    hypothesis = pd.read_csv('hypothesis.csv')"
   ]
  },
  {
   "cell_type": "markdown",
   "metadata": {},
   "source": [
    "# Часть 1. Приоритизация гипотез."
   ]
  },
  {
   "cell_type": "code",
   "execution_count": 3,
   "metadata": {},
   "outputs": [
    {
     "data": {
      "text/html": [
       "<div>\n",
       "<style scoped>\n",
       "    .dataframe tbody tr th:only-of-type {\n",
       "        vertical-align: middle;\n",
       "    }\n",
       "\n",
       "    .dataframe tbody tr th {\n",
       "        vertical-align: top;\n",
       "    }\n",
       "\n",
       "    .dataframe thead th {\n",
       "        text-align: right;\n",
       "    }\n",
       "</style>\n",
       "<table border=\"1\" class=\"dataframe\">\n",
       "  <thead>\n",
       "    <tr style=\"text-align: right;\">\n",
       "      <th></th>\n",
       "      <th>Hypothesis</th>\n",
       "      <th>Reach</th>\n",
       "      <th>Impact</th>\n",
       "      <th>Confidence</th>\n",
       "      <th>Efforts</th>\n",
       "    </tr>\n",
       "  </thead>\n",
       "  <tbody>\n",
       "    <tr>\n",
       "      <th>0</th>\n",
       "      <td>Добавить два новых канала привлечения трафика, что позволит привлекать на 30% больше пользователей</td>\n",
       "      <td>3</td>\n",
       "      <td>10</td>\n",
       "      <td>8</td>\n",
       "      <td>6</td>\n",
       "    </tr>\n",
       "    <tr>\n",
       "      <th>1</th>\n",
       "      <td>Запустить собственную службу доставки, что сократит срок доставки заказов</td>\n",
       "      <td>2</td>\n",
       "      <td>5</td>\n",
       "      <td>4</td>\n",
       "      <td>10</td>\n",
       "    </tr>\n",
       "    <tr>\n",
       "      <th>2</th>\n",
       "      <td>Добавить блоки рекомендаций товаров на сайт интернет магазина, чтобы повысить конверсию и средни...</td>\n",
       "      <td>8</td>\n",
       "      <td>3</td>\n",
       "      <td>7</td>\n",
       "      <td>3</td>\n",
       "    </tr>\n",
       "    <tr>\n",
       "      <th>3</th>\n",
       "      <td>Изменить структура категорий, что увеличит конверсию, т.к. пользователи быстрее найдут нужный товар</td>\n",
       "      <td>8</td>\n",
       "      <td>3</td>\n",
       "      <td>3</td>\n",
       "      <td>8</td>\n",
       "    </tr>\n",
       "    <tr>\n",
       "      <th>4</th>\n",
       "      <td>Изменить цвет фона главной страницы, чтобы увеличить вовлеченность пользователей</td>\n",
       "      <td>3</td>\n",
       "      <td>1</td>\n",
       "      <td>1</td>\n",
       "      <td>1</td>\n",
       "    </tr>\n",
       "    <tr>\n",
       "      <th>5</th>\n",
       "      <td>Добавить страницу отзывов клиентов о магазине, что позволит увеличить количество заказов</td>\n",
       "      <td>3</td>\n",
       "      <td>2</td>\n",
       "      <td>2</td>\n",
       "      <td>3</td>\n",
       "    </tr>\n",
       "    <tr>\n",
       "      <th>6</th>\n",
       "      <td>Показать на главной странице баннеры с актуальными акциями и распродажами, чтобы увеличить конве...</td>\n",
       "      <td>5</td>\n",
       "      <td>3</td>\n",
       "      <td>8</td>\n",
       "      <td>3</td>\n",
       "    </tr>\n",
       "    <tr>\n",
       "      <th>7</th>\n",
       "      <td>Добавить форму подписки на все основные страницы, чтобы собрать базу клиентов для email-рассылок</td>\n",
       "      <td>10</td>\n",
       "      <td>7</td>\n",
       "      <td>8</td>\n",
       "      <td>5</td>\n",
       "    </tr>\n",
       "    <tr>\n",
       "      <th>8</th>\n",
       "      <td>Запустить акцию, дающую скидку на товар в день рождения</td>\n",
       "      <td>1</td>\n",
       "      <td>9</td>\n",
       "      <td>9</td>\n",
       "      <td>5</td>\n",
       "    </tr>\n",
       "  </tbody>\n",
       "</table>\n",
       "</div>"
      ],
      "text/plain": [
       "                                                                                            Hypothesis  \\\n",
       "0   Добавить два новых канала привлечения трафика, что позволит привлекать на 30% больше пользователей   \n",
       "1                            Запустить собственную службу доставки, что сократит срок доставки заказов   \n",
       "2  Добавить блоки рекомендаций товаров на сайт интернет магазина, чтобы повысить конверсию и средни...   \n",
       "3  Изменить структура категорий, что увеличит конверсию, т.к. пользователи быстрее найдут нужный товар   \n",
       "4                     Изменить цвет фона главной страницы, чтобы увеличить вовлеченность пользователей   \n",
       "5             Добавить страницу отзывов клиентов о магазине, что позволит увеличить количество заказов   \n",
       "6  Показать на главной странице баннеры с актуальными акциями и распродажами, чтобы увеличить конве...   \n",
       "7     Добавить форму подписки на все основные страницы, чтобы собрать базу клиентов для email-рассылок   \n",
       "8                                              Запустить акцию, дающую скидку на товар в день рождения   \n",
       "\n",
       "   Reach  Impact  Confidence  Efforts  \n",
       "0      3      10           8        6  \n",
       "1      2       5           4       10  \n",
       "2      8       3           7        3  \n",
       "3      8       3           3        8  \n",
       "4      3       1           1        1  \n",
       "5      3       2           2        3  \n",
       "6      5       3           8        3  \n",
       "7     10       7           8        5  \n",
       "8      1       9           9        5  "
      ]
     },
     "execution_count": 3,
     "metadata": {},
     "output_type": "execute_result"
    }
   ],
   "source": [
    "pd.options.display.max_colwidth = 100\n",
    "hypothesis"
   ]
  },
  {
   "cell_type": "markdown",
   "metadata": {},
   "source": [
    "Примените фреймворк ICE для приоритизации гипотез. Отсортируйте их по убыванию приоритета."
   ]
  },
  {
   "cell_type": "code",
   "execution_count": 4,
   "metadata": {},
   "outputs": [
    {
     "data": {
      "text/plain": [
       "0    13.333333\n",
       "1     2.000000\n",
       "2     7.000000\n",
       "3     1.125000\n",
       "4     1.000000\n",
       "5     1.333333\n",
       "6     8.000000\n",
       "7    11.200000\n",
       "8    16.200000\n",
       "Name: Ice, dtype: float64"
      ]
     },
     "execution_count": 4,
     "metadata": {},
     "output_type": "execute_result"
    }
   ],
   "source": [
    "hypothesis['Ice'] = (hypothesis['Impact']*hypothesis['Confidence'])/ hypothesis['Efforts']\n",
    "hypothesis['Ice']"
   ]
  },
  {
   "cell_type": "code",
   "execution_count": 5,
   "metadata": {},
   "outputs": [
    {
     "data": {
      "text/html": [
       "<div>\n",
       "<style scoped>\n",
       "    .dataframe tbody tr th:only-of-type {\n",
       "        vertical-align: middle;\n",
       "    }\n",
       "\n",
       "    .dataframe tbody tr th {\n",
       "        vertical-align: top;\n",
       "    }\n",
       "\n",
       "    .dataframe thead th {\n",
       "        text-align: right;\n",
       "    }\n",
       "</style>\n",
       "<table border=\"1\" class=\"dataframe\">\n",
       "  <thead>\n",
       "    <tr style=\"text-align: right;\">\n",
       "      <th></th>\n",
       "      <th>Hypothesis</th>\n",
       "      <th>Reach</th>\n",
       "      <th>Impact</th>\n",
       "      <th>Confidence</th>\n",
       "      <th>Efforts</th>\n",
       "      <th>Ice</th>\n",
       "    </tr>\n",
       "  </thead>\n",
       "  <tbody>\n",
       "    <tr>\n",
       "      <th>8</th>\n",
       "      <td>Запустить акцию, дающую скидку на товар в день рождения</td>\n",
       "      <td>1</td>\n",
       "      <td>9</td>\n",
       "      <td>9</td>\n",
       "      <td>5</td>\n",
       "      <td>16.200000</td>\n",
       "    </tr>\n",
       "    <tr>\n",
       "      <th>0</th>\n",
       "      <td>Добавить два новых канала привлечения трафика, что позволит привлекать на 30% больше пользователей</td>\n",
       "      <td>3</td>\n",
       "      <td>10</td>\n",
       "      <td>8</td>\n",
       "      <td>6</td>\n",
       "      <td>13.333333</td>\n",
       "    </tr>\n",
       "    <tr>\n",
       "      <th>7</th>\n",
       "      <td>Добавить форму подписки на все основные страницы, чтобы собрать базу клиентов для email-рассылок</td>\n",
       "      <td>10</td>\n",
       "      <td>7</td>\n",
       "      <td>8</td>\n",
       "      <td>5</td>\n",
       "      <td>11.200000</td>\n",
       "    </tr>\n",
       "    <tr>\n",
       "      <th>6</th>\n",
       "      <td>Показать на главной странице баннеры с актуальными акциями и распродажами, чтобы увеличить конве...</td>\n",
       "      <td>5</td>\n",
       "      <td>3</td>\n",
       "      <td>8</td>\n",
       "      <td>3</td>\n",
       "      <td>8.000000</td>\n",
       "    </tr>\n",
       "    <tr>\n",
       "      <th>2</th>\n",
       "      <td>Добавить блоки рекомендаций товаров на сайт интернет магазина, чтобы повысить конверсию и средни...</td>\n",
       "      <td>8</td>\n",
       "      <td>3</td>\n",
       "      <td>7</td>\n",
       "      <td>3</td>\n",
       "      <td>7.000000</td>\n",
       "    </tr>\n",
       "    <tr>\n",
       "      <th>1</th>\n",
       "      <td>Запустить собственную службу доставки, что сократит срок доставки заказов</td>\n",
       "      <td>2</td>\n",
       "      <td>5</td>\n",
       "      <td>4</td>\n",
       "      <td>10</td>\n",
       "      <td>2.000000</td>\n",
       "    </tr>\n",
       "    <tr>\n",
       "      <th>5</th>\n",
       "      <td>Добавить страницу отзывов клиентов о магазине, что позволит увеличить количество заказов</td>\n",
       "      <td>3</td>\n",
       "      <td>2</td>\n",
       "      <td>2</td>\n",
       "      <td>3</td>\n",
       "      <td>1.333333</td>\n",
       "    </tr>\n",
       "    <tr>\n",
       "      <th>3</th>\n",
       "      <td>Изменить структура категорий, что увеличит конверсию, т.к. пользователи быстрее найдут нужный товар</td>\n",
       "      <td>8</td>\n",
       "      <td>3</td>\n",
       "      <td>3</td>\n",
       "      <td>8</td>\n",
       "      <td>1.125000</td>\n",
       "    </tr>\n",
       "    <tr>\n",
       "      <th>4</th>\n",
       "      <td>Изменить цвет фона главной страницы, чтобы увеличить вовлеченность пользователей</td>\n",
       "      <td>3</td>\n",
       "      <td>1</td>\n",
       "      <td>1</td>\n",
       "      <td>1</td>\n",
       "      <td>1.000000</td>\n",
       "    </tr>\n",
       "  </tbody>\n",
       "</table>\n",
       "</div>"
      ],
      "text/plain": [
       "                                                                                            Hypothesis  \\\n",
       "8                                              Запустить акцию, дающую скидку на товар в день рождения   \n",
       "0   Добавить два новых канала привлечения трафика, что позволит привлекать на 30% больше пользователей   \n",
       "7     Добавить форму подписки на все основные страницы, чтобы собрать базу клиентов для email-рассылок   \n",
       "6  Показать на главной странице баннеры с актуальными акциями и распродажами, чтобы увеличить конве...   \n",
       "2  Добавить блоки рекомендаций товаров на сайт интернет магазина, чтобы повысить конверсию и средни...   \n",
       "1                            Запустить собственную службу доставки, что сократит срок доставки заказов   \n",
       "5             Добавить страницу отзывов клиентов о магазине, что позволит увеличить количество заказов   \n",
       "3  Изменить структура категорий, что увеличит конверсию, т.к. пользователи быстрее найдут нужный товар   \n",
       "4                     Изменить цвет фона главной страницы, чтобы увеличить вовлеченность пользователей   \n",
       "\n",
       "   Reach  Impact  Confidence  Efforts        Ice  \n",
       "8      1       9           9        5  16.200000  \n",
       "0      3      10           8        6  13.333333  \n",
       "7     10       7           8        5  11.200000  \n",
       "6      5       3           8        3   8.000000  \n",
       "2      8       3           7        3   7.000000  \n",
       "1      2       5           4       10   2.000000  \n",
       "5      3       2           2        3   1.333333  \n",
       "3      8       3           3        8   1.125000  \n",
       "4      3       1           1        1   1.000000  "
      ]
     },
     "execution_count": 5,
     "metadata": {},
     "output_type": "execute_result"
    }
   ],
   "source": [
    "hypothesis.sort_values(by='Ice', ascending=False)"
   ]
  },
  {
   "cell_type": "markdown",
   "metadata": {},
   "source": [
    "Примените фреймворк RICE для приоритизации гипотез. Отсортируйте их по убыванию приоритета."
   ]
  },
  {
   "cell_type": "code",
   "execution_count": 6,
   "metadata": {},
   "outputs": [],
   "source": [
    "hypothesis['Rice_score'] =  (hypothesis['Reach']*hypothesis['Impact']*hypothesis['Confidence'])/ hypothesis['Efforts']"
   ]
  },
  {
   "cell_type": "code",
   "execution_count": 7,
   "metadata": {},
   "outputs": [
    {
     "data": {
      "text/html": [
       "<div>\n",
       "<style scoped>\n",
       "    .dataframe tbody tr th:only-of-type {\n",
       "        vertical-align: middle;\n",
       "    }\n",
       "\n",
       "    .dataframe tbody tr th {\n",
       "        vertical-align: top;\n",
       "    }\n",
       "\n",
       "    .dataframe thead th {\n",
       "        text-align: right;\n",
       "    }\n",
       "</style>\n",
       "<table border=\"1\" class=\"dataframe\">\n",
       "  <thead>\n",
       "    <tr style=\"text-align: right;\">\n",
       "      <th></th>\n",
       "      <th>Hypothesis</th>\n",
       "      <th>Reach</th>\n",
       "      <th>Impact</th>\n",
       "      <th>Confidence</th>\n",
       "      <th>Efforts</th>\n",
       "      <th>Ice</th>\n",
       "      <th>Rice_score</th>\n",
       "    </tr>\n",
       "  </thead>\n",
       "  <tbody>\n",
       "    <tr>\n",
       "      <th>7</th>\n",
       "      <td>Добавить форму подписки на все основные страницы, чтобы собрать базу клиентов для email-рассылок</td>\n",
       "      <td>10</td>\n",
       "      <td>7</td>\n",
       "      <td>8</td>\n",
       "      <td>5</td>\n",
       "      <td>11.200000</td>\n",
       "      <td>112.0</td>\n",
       "    </tr>\n",
       "    <tr>\n",
       "      <th>2</th>\n",
       "      <td>Добавить блоки рекомендаций товаров на сайт интернет магазина, чтобы повысить конверсию и средни...</td>\n",
       "      <td>8</td>\n",
       "      <td>3</td>\n",
       "      <td>7</td>\n",
       "      <td>3</td>\n",
       "      <td>7.000000</td>\n",
       "      <td>56.0</td>\n",
       "    </tr>\n",
       "    <tr>\n",
       "      <th>0</th>\n",
       "      <td>Добавить два новых канала привлечения трафика, что позволит привлекать на 30% больше пользователей</td>\n",
       "      <td>3</td>\n",
       "      <td>10</td>\n",
       "      <td>8</td>\n",
       "      <td>6</td>\n",
       "      <td>13.333333</td>\n",
       "      <td>40.0</td>\n",
       "    </tr>\n",
       "    <tr>\n",
       "      <th>6</th>\n",
       "      <td>Показать на главной странице баннеры с актуальными акциями и распродажами, чтобы увеличить конве...</td>\n",
       "      <td>5</td>\n",
       "      <td>3</td>\n",
       "      <td>8</td>\n",
       "      <td>3</td>\n",
       "      <td>8.000000</td>\n",
       "      <td>40.0</td>\n",
       "    </tr>\n",
       "    <tr>\n",
       "      <th>8</th>\n",
       "      <td>Запустить акцию, дающую скидку на товар в день рождения</td>\n",
       "      <td>1</td>\n",
       "      <td>9</td>\n",
       "      <td>9</td>\n",
       "      <td>5</td>\n",
       "      <td>16.200000</td>\n",
       "      <td>16.2</td>\n",
       "    </tr>\n",
       "    <tr>\n",
       "      <th>3</th>\n",
       "      <td>Изменить структура категорий, что увеличит конверсию, т.к. пользователи быстрее найдут нужный товар</td>\n",
       "      <td>8</td>\n",
       "      <td>3</td>\n",
       "      <td>3</td>\n",
       "      <td>8</td>\n",
       "      <td>1.125000</td>\n",
       "      <td>9.0</td>\n",
       "    </tr>\n",
       "    <tr>\n",
       "      <th>1</th>\n",
       "      <td>Запустить собственную службу доставки, что сократит срок доставки заказов</td>\n",
       "      <td>2</td>\n",
       "      <td>5</td>\n",
       "      <td>4</td>\n",
       "      <td>10</td>\n",
       "      <td>2.000000</td>\n",
       "      <td>4.0</td>\n",
       "    </tr>\n",
       "    <tr>\n",
       "      <th>5</th>\n",
       "      <td>Добавить страницу отзывов клиентов о магазине, что позволит увеличить количество заказов</td>\n",
       "      <td>3</td>\n",
       "      <td>2</td>\n",
       "      <td>2</td>\n",
       "      <td>3</td>\n",
       "      <td>1.333333</td>\n",
       "      <td>4.0</td>\n",
       "    </tr>\n",
       "    <tr>\n",
       "      <th>4</th>\n",
       "      <td>Изменить цвет фона главной страницы, чтобы увеличить вовлеченность пользователей</td>\n",
       "      <td>3</td>\n",
       "      <td>1</td>\n",
       "      <td>1</td>\n",
       "      <td>1</td>\n",
       "      <td>1.000000</td>\n",
       "      <td>3.0</td>\n",
       "    </tr>\n",
       "  </tbody>\n",
       "</table>\n",
       "</div>"
      ],
      "text/plain": [
       "                                                                                            Hypothesis  \\\n",
       "7     Добавить форму подписки на все основные страницы, чтобы собрать базу клиентов для email-рассылок   \n",
       "2  Добавить блоки рекомендаций товаров на сайт интернет магазина, чтобы повысить конверсию и средни...   \n",
       "0   Добавить два новых канала привлечения трафика, что позволит привлекать на 30% больше пользователей   \n",
       "6  Показать на главной странице баннеры с актуальными акциями и распродажами, чтобы увеличить конве...   \n",
       "8                                              Запустить акцию, дающую скидку на товар в день рождения   \n",
       "3  Изменить структура категорий, что увеличит конверсию, т.к. пользователи быстрее найдут нужный товар   \n",
       "1                            Запустить собственную службу доставки, что сократит срок доставки заказов   \n",
       "5             Добавить страницу отзывов клиентов о магазине, что позволит увеличить количество заказов   \n",
       "4                     Изменить цвет фона главной страницы, чтобы увеличить вовлеченность пользователей   \n",
       "\n",
       "   Reach  Impact  Confidence  Efforts        Ice  Rice_score  \n",
       "7     10       7           8        5  11.200000       112.0  \n",
       "2      8       3           7        3   7.000000        56.0  \n",
       "0      3      10           8        6  13.333333        40.0  \n",
       "6      5       3           8        3   8.000000        40.0  \n",
       "8      1       9           9        5  16.200000        16.2  \n",
       "3      8       3           3        8   1.125000         9.0  \n",
       "1      2       5           4       10   2.000000         4.0  \n",
       "5      3       2           2        3   1.333333         4.0  \n",
       "4      3       1           1        1   1.000000         3.0  "
      ]
     },
     "execution_count": 7,
     "metadata": {},
     "output_type": "execute_result"
    }
   ],
   "source": [
    "hypothesis.sort_values(by='Rice_score', ascending=False)"
   ]
  },
  {
   "cell_type": "markdown",
   "metadata": {},
   "source": [
    "Укажите, как изменилась приоритизация гипотез при применении RICE вместо ICE. Объясните, почему так произошло."
   ]
  },
  {
   "cell_type": "markdown",
   "metadata": {},
   "source": [
    "> При приотизации гипотез методом ICE в лидеры вышли: Запустить акцию, дающую скидку на товар в день,Добавить два новых канала привлечения трафика,Добавить форму подписки на все основные страницы.При приотизации гипотез методом RICE в лидеры вышли:Добавить форму подписки на все основные страницы,Добавить блоки рекомендаций товаров на сайт,Добавить два новых канала привлечения трафика. В целом при приотизации 2 лидера совпали, но так как в RICE еще уччитывает скольких пользователей затронет изменение, то скорее всего данный метод более показательный и стоит учитывать его."
   ]
  },
  {
   "cell_type": "markdown",
   "metadata": {},
   "source": [
    "# Часть 2. Анализ A/B-теста"
   ]
  },
  {
   "cell_type": "code",
   "execution_count": 8,
   "metadata": {},
   "outputs": [],
   "source": [
    "try:\n",
    "    orders = pd.read_csv('/datasets/orders.csv')\n",
    "    visitors = pd.read_csv('/datasets/visitors.csv')\n",
    "except:\n",
    "    orders = pd.read_csv('orders.csv ')\n",
    "    visitors = pd.read_csv('visitors.csv')"
   ]
  },
  {
   "cell_type": "code",
   "execution_count": 9,
   "metadata": {},
   "outputs": [
    {
     "name": "stdout",
     "output_type": "stream",
     "text": [
      "<class 'pandas.core.frame.DataFrame'>\n",
      "RangeIndex: 1197 entries, 0 to 1196\n",
      "Data columns (total 5 columns):\n",
      " #   Column         Non-Null Count  Dtype \n",
      "---  ------         --------------  ----- \n",
      " 0   transactionId  1197 non-null   int64 \n",
      " 1   visitorId      1197 non-null   int64 \n",
      " 2   date           1197 non-null   object\n",
      " 3   revenue        1197 non-null   int64 \n",
      " 4   group          1197 non-null   object\n",
      "dtypes: int64(3), object(2)\n",
      "memory usage: 46.9+ KB\n"
     ]
    }
   ],
   "source": [
    "orders.info()"
   ]
  },
  {
   "cell_type": "code",
   "execution_count": 10,
   "metadata": {},
   "outputs": [
    {
     "name": "stdout",
     "output_type": "stream",
     "text": [
      "<class 'pandas.core.frame.DataFrame'>\n",
      "RangeIndex: 1197 entries, 0 to 1196\n",
      "Data columns (total 5 columns):\n",
      " #   Column         Non-Null Count  Dtype         \n",
      "---  ------         --------------  -----         \n",
      " 0   transactionId  1197 non-null   int64         \n",
      " 1   visitorId      1197 non-null   int64         \n",
      " 2   date           1197 non-null   datetime64[ns]\n",
      " 3   revenue        1197 non-null   int64         \n",
      " 4   group          1197 non-null   object        \n",
      "dtypes: datetime64[ns](1), int64(3), object(1)\n",
      "memory usage: 46.9+ KB\n"
     ]
    }
   ],
   "source": [
    "orders.date = pd.to_datetime(orders.date)\n",
    "orders.info()"
   ]
  },
  {
   "cell_type": "code",
   "execution_count": 11,
   "metadata": {},
   "outputs": [
    {
     "data": {
      "text/plain": [
       "0"
      ]
     },
     "execution_count": 11,
     "metadata": {},
     "output_type": "execute_result"
    }
   ],
   "source": [
    "orders.duplicated().sum()"
   ]
  },
  {
   "cell_type": "code",
   "execution_count": 12,
   "metadata": {},
   "outputs": [
    {
     "name": "stdout",
     "output_type": "stream",
     "text": [
      "<class 'pandas.core.frame.DataFrame'>\n",
      "RangeIndex: 62 entries, 0 to 61\n",
      "Data columns (total 3 columns):\n",
      " #   Column    Non-Null Count  Dtype \n",
      "---  ------    --------------  ----- \n",
      " 0   date      62 non-null     object\n",
      " 1   group     62 non-null     object\n",
      " 2   visitors  62 non-null     int64 \n",
      "dtypes: int64(1), object(2)\n",
      "memory usage: 1.6+ KB\n"
     ]
    }
   ],
   "source": [
    "visitors.info()"
   ]
  },
  {
   "cell_type": "code",
   "execution_count": 13,
   "metadata": {},
   "outputs": [
    {
     "name": "stdout",
     "output_type": "stream",
     "text": [
      "<class 'pandas.core.frame.DataFrame'>\n",
      "RangeIndex: 62 entries, 0 to 61\n",
      "Data columns (total 3 columns):\n",
      " #   Column    Non-Null Count  Dtype         \n",
      "---  ------    --------------  -----         \n",
      " 0   date      62 non-null     datetime64[ns]\n",
      " 1   group     62 non-null     object        \n",
      " 2   visitors  62 non-null     int64         \n",
      "dtypes: datetime64[ns](1), int64(1), object(1)\n",
      "memory usage: 1.6+ KB\n"
     ]
    }
   ],
   "source": [
    "visitors.date = pd.to_datetime(visitors.date)\n",
    "visitors.info()"
   ]
  },
  {
   "cell_type": "code",
   "execution_count": 14,
   "metadata": {},
   "outputs": [
    {
     "data": {
      "text/plain": [
       "0"
      ]
     },
     "execution_count": 14,
     "metadata": {},
     "output_type": "execute_result"
    }
   ],
   "source": [
    "visitors.duplicated().sum()"
   ]
  },
  {
   "cell_type": "markdown",
   "metadata": {},
   "source": [
    "#### Проверим есть ли пересечение пользователей в группе"
   ]
  },
  {
   "cell_type": "code",
   "execution_count": 15,
   "metadata": {},
   "outputs": [
    {
     "data": {
      "text/plain": [
       "58"
      ]
     },
     "execution_count": 15,
     "metadata": {},
     "output_type": "execute_result"
    }
   ],
   "source": [
    "len_B = orders.query('group == \"B\"')['visitorId']\n",
    "len_A = orders.query('group == \"A\"')['visitorId']\n",
    "len(set(len_A)& set(set(len_B)))"
   ]
  },
  {
   "cell_type": "markdown",
   "metadata": {},
   "source": [
    "### Постройте график кумулятивной выручки по группам. Сделайте выводы и предположения."
   ]
  },
  {
   "cell_type": "code",
   "execution_count": 16,
   "metadata": {},
   "outputs": [
    {
     "data": {
      "text/plain": [
       "Timestamp('2019-08-31 00:00:00')"
      ]
     },
     "execution_count": 16,
     "metadata": {},
     "output_type": "execute_result"
    }
   ],
   "source": [
    "orders.date.max()"
   ]
  },
  {
   "cell_type": "code",
   "execution_count": 17,
   "metadata": {},
   "outputs": [
    {
     "data": {
      "text/plain": [
       "Timestamp('2019-08-01 00:00:00')"
      ]
     },
     "execution_count": 17,
     "metadata": {},
     "output_type": "execute_result"
    }
   ],
   "source": [
    "orders.date.min()"
   ]
  },
  {
   "cell_type": "code",
   "execution_count": 18,
   "metadata": {},
   "outputs": [
    {
     "data": {
      "text/html": [
       "<div>\n",
       "<style scoped>\n",
       "    .dataframe tbody tr th:only-of-type {\n",
       "        vertical-align: middle;\n",
       "    }\n",
       "\n",
       "    .dataframe tbody tr th {\n",
       "        vertical-align: top;\n",
       "    }\n",
       "\n",
       "    .dataframe thead th {\n",
       "        text-align: right;\n",
       "    }\n",
       "</style>\n",
       "<table border=\"1\" class=\"dataframe\">\n",
       "  <thead>\n",
       "    <tr style=\"text-align: right;\">\n",
       "      <th></th>\n",
       "      <th>date</th>\n",
       "      <th>group</th>\n",
       "      <th>ordersPerDate</th>\n",
       "      <th>revenuePerDate</th>\n",
       "    </tr>\n",
       "  </thead>\n",
       "  <tbody>\n",
       "    <tr>\n",
       "      <th>0</th>\n",
       "      <td>2019-08-01</td>\n",
       "      <td>A</td>\n",
       "      <td>20</td>\n",
       "      <td>148579</td>\n",
       "    </tr>\n",
       "    <tr>\n",
       "      <th>1</th>\n",
       "      <td>2019-08-01</td>\n",
       "      <td>B</td>\n",
       "      <td>20</td>\n",
       "      <td>101217</td>\n",
       "    </tr>\n",
       "    <tr>\n",
       "      <th>2</th>\n",
       "      <td>2019-08-02</td>\n",
       "      <td>A</td>\n",
       "      <td>19</td>\n",
       "      <td>93822</td>\n",
       "    </tr>\n",
       "    <tr>\n",
       "      <th>3</th>\n",
       "      <td>2019-08-02</td>\n",
       "      <td>B</td>\n",
       "      <td>23</td>\n",
       "      <td>165531</td>\n",
       "    </tr>\n",
       "    <tr>\n",
       "      <th>4</th>\n",
       "      <td>2019-08-03</td>\n",
       "      <td>A</td>\n",
       "      <td>24</td>\n",
       "      <td>112473</td>\n",
       "    </tr>\n",
       "    <tr>\n",
       "      <th>...</th>\n",
       "      <td>...</td>\n",
       "      <td>...</td>\n",
       "      <td>...</td>\n",
       "      <td>...</td>\n",
       "    </tr>\n",
       "    <tr>\n",
       "      <th>57</th>\n",
       "      <td>2019-08-29</td>\n",
       "      <td>B</td>\n",
       "      <td>20</td>\n",
       "      <td>231130</td>\n",
       "    </tr>\n",
       "    <tr>\n",
       "      <th>58</th>\n",
       "      <td>2019-08-30</td>\n",
       "      <td>A</td>\n",
       "      <td>10</td>\n",
       "      <td>86460</td>\n",
       "    </tr>\n",
       "    <tr>\n",
       "      <th>59</th>\n",
       "      <td>2019-08-30</td>\n",
       "      <td>B</td>\n",
       "      <td>24</td>\n",
       "      <td>215233</td>\n",
       "    </tr>\n",
       "    <tr>\n",
       "      <th>60</th>\n",
       "      <td>2019-08-31</td>\n",
       "      <td>A</td>\n",
       "      <td>12</td>\n",
       "      <td>61833</td>\n",
       "    </tr>\n",
       "    <tr>\n",
       "      <th>61</th>\n",
       "      <td>2019-08-31</td>\n",
       "      <td>B</td>\n",
       "      <td>20</td>\n",
       "      <td>133129</td>\n",
       "    </tr>\n",
       "  </tbody>\n",
       "</table>\n",
       "<p>62 rows × 4 columns</p>\n",
       "</div>"
      ],
      "text/plain": [
       "         date group  ordersPerDate  revenuePerDate\n",
       "0  2019-08-01     A             20          148579\n",
       "1  2019-08-01     B             20          101217\n",
       "2  2019-08-02     A             19           93822\n",
       "3  2019-08-02     B             23          165531\n",
       "4  2019-08-03     A             24          112473\n",
       "..        ...   ...            ...             ...\n",
       "57 2019-08-29     B             20          231130\n",
       "58 2019-08-30     A             10           86460\n",
       "59 2019-08-30     B             24          215233\n",
       "60 2019-08-31     A             12           61833\n",
       "61 2019-08-31     B             20          133129\n",
       "\n",
       "[62 rows x 4 columns]"
      ]
     },
     "execution_count": 18,
     "metadata": {},
     "output_type": "execute_result"
    }
   ],
   "source": [
    "ordersDaily = orders.groupby(['date','group'], as_index=False).agg({'visitorId': pd.Series.nunique, 'revenue': 'sum'})\n",
    "ordersDaily.columns = ['date', 'group','ordersPerDate', 'revenuePerDate']\n",
    "ordersDaily"
   ]
  },
  {
   "cell_type": "code",
   "execution_count": 19,
   "metadata": {},
   "outputs": [],
   "source": [
    "ordersCummulatives = ordersDaily.apply(\n",
    "    lambda x: ordersDaily[np.logical_and(ordersDaily['date'] <= x['date'], ordersDaily['group'] == x['group'])]\n",
    "    .agg({'date': 'max','group':'max', 'ordersPerDate': 'sum', 'revenuePerDate': 'sum'}),\n",
    "    axis=1,\n",
    "    ).sort_values(by=['date','group'])\n"
   ]
  },
  {
   "cell_type": "code",
   "execution_count": 20,
   "metadata": {},
   "outputs": [
    {
     "data": {
      "text/html": [
       "<div>\n",
       "<style scoped>\n",
       "    .dataframe tbody tr th:only-of-type {\n",
       "        vertical-align: middle;\n",
       "    }\n",
       "\n",
       "    .dataframe tbody tr th {\n",
       "        vertical-align: top;\n",
       "    }\n",
       "\n",
       "    .dataframe thead th {\n",
       "        text-align: right;\n",
       "    }\n",
       "</style>\n",
       "<table border=\"1\" class=\"dataframe\">\n",
       "  <thead>\n",
       "    <tr style=\"text-align: right;\">\n",
       "      <th></th>\n",
       "      <th>date</th>\n",
       "      <th>group</th>\n",
       "      <th>cum_order</th>\n",
       "      <th>cum_revenue</th>\n",
       "    </tr>\n",
       "  </thead>\n",
       "  <tbody>\n",
       "    <tr>\n",
       "      <th>0</th>\n",
       "      <td>2019-08-01</td>\n",
       "      <td>A</td>\n",
       "      <td>20</td>\n",
       "      <td>148579</td>\n",
       "    </tr>\n",
       "    <tr>\n",
       "      <th>1</th>\n",
       "      <td>2019-08-01</td>\n",
       "      <td>B</td>\n",
       "      <td>20</td>\n",
       "      <td>101217</td>\n",
       "    </tr>\n",
       "    <tr>\n",
       "      <th>2</th>\n",
       "      <td>2019-08-02</td>\n",
       "      <td>A</td>\n",
       "      <td>39</td>\n",
       "      <td>242401</td>\n",
       "    </tr>\n",
       "    <tr>\n",
       "      <th>3</th>\n",
       "      <td>2019-08-02</td>\n",
       "      <td>B</td>\n",
       "      <td>43</td>\n",
       "      <td>266748</td>\n",
       "    </tr>\n",
       "    <tr>\n",
       "      <th>4</th>\n",
       "      <td>2019-08-03</td>\n",
       "      <td>A</td>\n",
       "      <td>63</td>\n",
       "      <td>354874</td>\n",
       "    </tr>\n",
       "  </tbody>\n",
       "</table>\n",
       "</div>"
      ],
      "text/plain": [
       "        date group  cum_order  cum_revenue\n",
       "0 2019-08-01     A         20       148579\n",
       "1 2019-08-01     B         20       101217\n",
       "2 2019-08-02     A         39       242401\n",
       "3 2019-08-02     B         43       266748\n",
       "4 2019-08-03     A         63       354874"
      ]
     },
     "execution_count": 20,
     "metadata": {},
     "output_type": "execute_result"
    }
   ],
   "source": [
    "ordersCummulatives = ordersCummulatives.rename(columns={'revenuePerDate':'cum_revenue','ordersPerDate':'cum_order'})\n",
    "ordersCummulatives.head(5)"
   ]
  },
  {
   "cell_type": "code",
   "execution_count": 21,
   "metadata": {},
   "outputs": [
    {
     "data": {
      "image/png": "[encoded data removed]",
      "text/plain": [
       "<Figure size 1152x432 with 1 Axes>"
      ]
     },
     "metadata": {
      "needs_background": "light"
     },
     "output_type": "display_data"
    }
   ],
   "source": [
    "plt.figure(figsize=(16,6))\n",
    "sns.lineplot(data=ordersCummulatives,x='date',y='cum_revenue',hue='group')\n",
    "sns.set(style='darkgrid')\n",
    "plt.title('Кумулятивная выручка')\n",
    "plt.xlabel('Выручка')\n",
    "plt.ylabel('Время')\n",
    "plt.ylim(0)\n",
    "plt.show()"
   ]
  },
  {
   "cell_type": "markdown",
   "metadata": {},
   "source": [
    "> Как мы видим на графике выше кумулятивная выручка группы B в период с 17-21 августа сделала значительный скачек. Возможно это выбросы,необходимо этот момент проанализировать(возможно в этот период была запущена акция,одна из гипотез выше). В целом в этих группах выручка равномерно растет.Учитывая одинаковые темпы роста групп, момент скачка на графике скорее всего свидельствует о появлении нескольких дорогих заказов"
   ]
  },
  {
   "cell_type": "markdown",
   "metadata": {},
   "source": [
    "### Постройте график кумулятивного среднего чека по группам. Сделайте выводы и предположения."
   ]
  },
  {
   "cell_type": "code",
   "execution_count": 22,
   "metadata": {},
   "outputs": [],
   "source": [
    "ordersCummulatives['chek'] = ordersCummulatives['cum_revenue']/ordersCummulatives['cum_order']"
   ]
  },
  {
   "cell_type": "code",
   "execution_count": 23,
   "metadata": {},
   "outputs": [
    {
     "data": {
      "image/png": "[encoded data removed]",
      "text/plain": [
       "<Figure size 1152x432 with 1 Axes>"
      ]
     },
     "metadata": {},
     "output_type": "display_data"
    }
   ],
   "source": [
    "plt.figure(figsize=(16,6))\n",
    "sns.lineplot(x='date',y='chek',hue='group',data = ordersCummulatives)\n",
    "sns.set(style='darkgrid')\n",
    "plt.title('Кумулятивный средний чек')\n",
    "plt.xlabel('Средний чек')\n",
    "plt.ylabel('Время')\n",
    "plt.ylim(0)\n",
    "plt.show()\n"
   ]
  },
  {
   "cell_type": "markdown",
   "metadata": {},
   "source": [
    "> Как видно на данном графие группа В также в период с 17-21 июня имеет значительный скачок, но далее постепенно убывает средний чек.В то время как группа А в этот период не изменилась и вышла на плато, также в этой группе мы видим скачек 8 августа,за котором не последовал рост среднего чека. Значение среднего чека после скачка начинает приходить в норму, но еще далеко от стабилизации. Нужно не забыть учесть этот факт далее"
   ]
  },
  {
   "cell_type": "markdown",
   "metadata": {},
   "source": [
    "### Постройте график относительного изменения кумулятивного среднего чека группы B к группе A. Сделайте выводы и предположения."
   ]
  },
  {
   "cell_type": "code",
   "execution_count": 24,
   "metadata": {},
   "outputs": [
    {
     "data": {
      "text/html": [
       "<div>\n",
       "<style scoped>\n",
       "    .dataframe tbody tr th:only-of-type {\n",
       "        vertical-align: middle;\n",
       "    }\n",
       "\n",
       "    .dataframe tbody tr th {\n",
       "        vertical-align: top;\n",
       "    }\n",
       "\n",
       "    .dataframe thead th {\n",
       "        text-align: right;\n",
       "    }\n",
       "</style>\n",
       "<table border=\"1\" class=\"dataframe\">\n",
       "  <thead>\n",
       "    <tr style=\"text-align: right;\">\n",
       "      <th></th>\n",
       "      <th>date</th>\n",
       "      <th>chekA</th>\n",
       "      <th>chekB</th>\n",
       "    </tr>\n",
       "  </thead>\n",
       "  <tbody>\n",
       "    <tr>\n",
       "      <th>0</th>\n",
       "      <td>2019-08-01</td>\n",
       "      <td>7428.950000</td>\n",
       "      <td>5060.850000</td>\n",
       "    </tr>\n",
       "    <tr>\n",
       "      <th>1</th>\n",
       "      <td>2019-08-02</td>\n",
       "      <td>6215.410256</td>\n",
       "      <td>6203.441860</td>\n",
       "    </tr>\n",
       "    <tr>\n",
       "      <th>2</th>\n",
       "      <td>2019-08-03</td>\n",
       "      <td>5632.920635</td>\n",
       "      <td>6457.559322</td>\n",
       "    </tr>\n",
       "    <tr>\n",
       "      <th>3</th>\n",
       "      <td>2019-08-04</td>\n",
       "      <td>5457.679487</td>\n",
       "      <td>6527.560000</td>\n",
       "    </tr>\n",
       "    <tr>\n",
       "      <th>4</th>\n",
       "      <td>2019-08-05</td>\n",
       "      <td>5339.000000</td>\n",
       "      <td>5938.724490</td>\n",
       "    </tr>\n",
       "  </tbody>\n",
       "</table>\n",
       "</div>"
      ],
      "text/plain": [
       "        date        chekA        chekB\n",
       "0 2019-08-01  7428.950000  5060.850000\n",
       "1 2019-08-02  6215.410256  6203.441860\n",
       "2 2019-08-03  5632.920635  6457.559322\n",
       "3 2019-08-04  5457.679487  6527.560000\n",
       "4 2019-08-05  5339.000000  5938.724490"
      ]
     },
     "execution_count": 24,
     "metadata": {},
     "output_type": "execute_result"
    }
   ],
   "source": [
    "cum_A_chek = ordersCummulatives[ordersCummulatives['group']=='A'][['date', 'chek']]\n",
    "cum_B_chek = ordersCummulatives[ordersCummulatives['group']=='B'][['date', 'chek']]\n",
    "cum_chek = cum_A_chek.merge(cum_B_chek, left_on='date', right_on='date', how='left', suffixes=['A', 'B'])\n",
    "cum_chek.head()"
   ]
  },
  {
   "cell_type": "code",
   "execution_count": 25,
   "metadata": {},
   "outputs": [
    {
     "data": {
      "image/png": "[encoded data removed]",
      "text/plain": [
       "<Figure size 1152x432 with 1 Axes>"
      ]
     },
     "metadata": {},
     "output_type": "display_data"
    }
   ],
   "source": [
    "plt.figure(figsize=(16,6))\n",
    "plt.plot(cum_chek['date'], (cum_chek['chekB'])/(cum_chek['chekA'])-1)\n",
    "plt.axhline(y=0, color='black', linestyle='--') \n",
    "plt.title('Изменения кумулятивного среднего чека группы B к группе A')\n",
    "plt.xlabel('Время')\n",
    "plt.ylabel('Изменение')\n",
    "plt.show()"
   ]
  },
  {
   "cell_type": "markdown",
   "metadata": {},
   "source": [
    "> По графику выше мы видим, что группа B оказалась в целом лучше,но не стоит принимать поспешных выводов,надо проверить выбросы, которая повлияла на неравномерность графика."
   ]
  },
  {
   "cell_type": "markdown",
   "metadata": {},
   "source": [
    "### Постройте график кумулятивной конверсии по группам. Сделайте выводы и предположения."
   ]
  },
  {
   "cell_type": "code",
   "execution_count": 26,
   "metadata": {},
   "outputs": [],
   "source": [
    "datesGroups = orders[['date','group']].drop_duplicates()"
   ]
  },
  {
   "cell_type": "code",
   "execution_count": 27,
   "metadata": {},
   "outputs": [],
   "source": [
    "visitorsAggregated = datesGroups.apply(lambda x: visitors[np.logical_and(visitors['date'] <= x['date'], \n",
    "                                       visitors['group'] == x['group'])]\n",
    "                                       .agg({'date' : 'max', 'group' : 'max', 'visitors' : 'sum'}), axis=1).sort_values(\n",
    "                                       by=['date','group'])\n",
    "\n",
    "\n",
    "cumulativeData = ordersCummulatives.merge(visitorsAggregated, left_on=['date', 'group'], right_on=['date', 'group'])\n",
    "cumulativeData.columns = ['date', 'group', 'orders', 'buyers', 'revenue', 'visitors']"
   ]
  },
  {
   "cell_type": "code",
   "execution_count": 28,
   "metadata": {},
   "outputs": [
    {
     "data": {
      "text/html": [
       "<div>\n",
       "<style scoped>\n",
       "    .dataframe tbody tr th:only-of-type {\n",
       "        vertical-align: middle;\n",
       "    }\n",
       "\n",
       "    .dataframe tbody tr th {\n",
       "        vertical-align: top;\n",
       "    }\n",
       "\n",
       "    .dataframe thead th {\n",
       "        text-align: right;\n",
       "    }\n",
       "</style>\n",
       "<table border=\"1\" class=\"dataframe\">\n",
       "  <thead>\n",
       "    <tr style=\"text-align: right;\">\n",
       "      <th></th>\n",
       "      <th>date</th>\n",
       "      <th>group</th>\n",
       "      <th>orders</th>\n",
       "      <th>buyers</th>\n",
       "      <th>revenue</th>\n",
       "      <th>visitors</th>\n",
       "      <th>conversion</th>\n",
       "    </tr>\n",
       "  </thead>\n",
       "  <tbody>\n",
       "    <tr>\n",
       "      <th>0</th>\n",
       "      <td>2019-08-01</td>\n",
       "      <td>A</td>\n",
       "      <td>20</td>\n",
       "      <td>148579</td>\n",
       "      <td>7428.950000</td>\n",
       "      <td>719</td>\n",
       "      <td>0.027816</td>\n",
       "    </tr>\n",
       "    <tr>\n",
       "      <th>1</th>\n",
       "      <td>2019-08-01</td>\n",
       "      <td>B</td>\n",
       "      <td>20</td>\n",
       "      <td>101217</td>\n",
       "      <td>5060.850000</td>\n",
       "      <td>713</td>\n",
       "      <td>0.028050</td>\n",
       "    </tr>\n",
       "    <tr>\n",
       "      <th>2</th>\n",
       "      <td>2019-08-02</td>\n",
       "      <td>A</td>\n",
       "      <td>39</td>\n",
       "      <td>242401</td>\n",
       "      <td>6215.410256</td>\n",
       "      <td>1338</td>\n",
       "      <td>0.029148</td>\n",
       "    </tr>\n",
       "    <tr>\n",
       "      <th>3</th>\n",
       "      <td>2019-08-02</td>\n",
       "      <td>B</td>\n",
       "      <td>43</td>\n",
       "      <td>266748</td>\n",
       "      <td>6203.441860</td>\n",
       "      <td>1294</td>\n",
       "      <td>0.033230</td>\n",
       "    </tr>\n",
       "    <tr>\n",
       "      <th>4</th>\n",
       "      <td>2019-08-03</td>\n",
       "      <td>A</td>\n",
       "      <td>63</td>\n",
       "      <td>354874</td>\n",
       "      <td>5632.920635</td>\n",
       "      <td>1845</td>\n",
       "      <td>0.034146</td>\n",
       "    </tr>\n",
       "    <tr>\n",
       "      <th>...</th>\n",
       "      <td>...</td>\n",
       "      <td>...</td>\n",
       "      <td>...</td>\n",
       "      <td>...</td>\n",
       "      <td>...</td>\n",
       "      <td>...</td>\n",
       "      <td>...</td>\n",
       "    </tr>\n",
       "    <tr>\n",
       "      <th>57</th>\n",
       "      <td>2019-08-29</td>\n",
       "      <td>B</td>\n",
       "      <td>584</td>\n",
       "      <td>5559398</td>\n",
       "      <td>9519.517123</td>\n",
       "      <td>17708</td>\n",
       "      <td>0.032979</td>\n",
       "    </tr>\n",
       "    <tr>\n",
       "      <th>58</th>\n",
       "      <td>2019-08-30</td>\n",
       "      <td>A</td>\n",
       "      <td>531</td>\n",
       "      <td>4022970</td>\n",
       "      <td>7576.214689</td>\n",
       "      <td>18037</td>\n",
       "      <td>0.029439</td>\n",
       "    </tr>\n",
       "    <tr>\n",
       "      <th>59</th>\n",
       "      <td>2019-08-30</td>\n",
       "      <td>B</td>\n",
       "      <td>608</td>\n",
       "      <td>5774631</td>\n",
       "      <td>9497.748355</td>\n",
       "      <td>18198</td>\n",
       "      <td>0.033410</td>\n",
       "    </tr>\n",
       "    <tr>\n",
       "      <th>60</th>\n",
       "      <td>2019-08-31</td>\n",
       "      <td>A</td>\n",
       "      <td>543</td>\n",
       "      <td>4084803</td>\n",
       "      <td>7522.657459</td>\n",
       "      <td>18736</td>\n",
       "      <td>0.028982</td>\n",
       "    </tr>\n",
       "    <tr>\n",
       "      <th>61</th>\n",
       "      <td>2019-08-31</td>\n",
       "      <td>B</td>\n",
       "      <td>628</td>\n",
       "      <td>5907760</td>\n",
       "      <td>9407.261146</td>\n",
       "      <td>18916</td>\n",
       "      <td>0.033199</td>\n",
       "    </tr>\n",
       "  </tbody>\n",
       "</table>\n",
       "<p>62 rows × 7 columns</p>\n",
       "</div>"
      ],
      "text/plain": [
       "         date group  orders   buyers      revenue  visitors  conversion\n",
       "0  2019-08-01     A      20   148579  7428.950000       719    0.027816\n",
       "1  2019-08-01     B      20   101217  5060.850000       713    0.028050\n",
       "2  2019-08-02     A      39   242401  6215.410256      1338    0.029148\n",
       "3  2019-08-02     B      43   266748  6203.441860      1294    0.033230\n",
       "4  2019-08-03     A      63   354874  5632.920635      1845    0.034146\n",
       "..        ...   ...     ...      ...          ...       ...         ...\n",
       "57 2019-08-29     B     584  5559398  9519.517123     17708    0.032979\n",
       "58 2019-08-30     A     531  4022970  7576.214689     18037    0.029439\n",
       "59 2019-08-30     B     608  5774631  9497.748355     18198    0.033410\n",
       "60 2019-08-31     A     543  4084803  7522.657459     18736    0.028982\n",
       "61 2019-08-31     B     628  5907760  9407.261146     18916    0.033199\n",
       "\n",
       "[62 rows x 7 columns]"
      ]
     },
     "execution_count": 28,
     "metadata": {},
     "output_type": "execute_result"
    }
   ],
   "source": [
    "cumulativeData['conversion'] = cumulativeData['orders']/cumulativeData['visitors']\n",
    "cumulativeData"
   ]
  },
  {
   "cell_type": "code",
   "execution_count": 29,
   "metadata": {},
   "outputs": [
    {
     "data": {
      "image/png": "[encoded data removed]",
      "text/plain": [
       "<Figure size 1152x432 with 1 Axes>"
      ]
     },
     "metadata": {},
     "output_type": "display_data"
    }
   ],
   "source": [
    "plt.figure(figsize=(16,6))\n",
    "sns.lineplot(x='date',y='conversion',hue='group',data = cumulativeData)\n",
    "plt.title('Кумулятивная конверсия по группам')\n",
    "plt.xlabel('Время')\n",
    "plt.ylabel('Конверсия')\n",
    "plt.show()"
   ]
  },
  {
   "cell_type": "markdown",
   "metadata": {},
   "source": [
    "> Как видно из графика выше,группа А и B в период с 1-5 августа имеют скачок и резкий спад.Но далее группа B значительно выросла в коверсии, когда как в группе А  после резкого спада особых изменеий нет."
   ]
  },
  {
   "cell_type": "markdown",
   "metadata": {},
   "source": [
    "### Постройте график относительного изменения кумулятивной конверсии группы B к группе A. Сделайте выводы и предположения."
   ]
  },
  {
   "cell_type": "code",
   "execution_count": 30,
   "metadata": {},
   "outputs": [
    {
     "data": {
      "text/html": [
       "<div>\n",
       "<style scoped>\n",
       "    .dataframe tbody tr th:only-of-type {\n",
       "        vertical-align: middle;\n",
       "    }\n",
       "\n",
       "    .dataframe tbody tr th {\n",
       "        vertical-align: top;\n",
       "    }\n",
       "\n",
       "    .dataframe thead th {\n",
       "        text-align: right;\n",
       "    }\n",
       "</style>\n",
       "<table border=\"1\" class=\"dataframe\">\n",
       "  <thead>\n",
       "    <tr style=\"text-align: right;\">\n",
       "      <th></th>\n",
       "      <th>date</th>\n",
       "      <th>conversionA</th>\n",
       "      <th>conversionB</th>\n",
       "    </tr>\n",
       "  </thead>\n",
       "  <tbody>\n",
       "    <tr>\n",
       "      <th>0</th>\n",
       "      <td>2019-08-01</td>\n",
       "      <td>0.027816</td>\n",
       "      <td>0.028050</td>\n",
       "    </tr>\n",
       "    <tr>\n",
       "      <th>1</th>\n",
       "      <td>2019-08-02</td>\n",
       "      <td>0.029148</td>\n",
       "      <td>0.033230</td>\n",
       "    </tr>\n",
       "    <tr>\n",
       "      <th>2</th>\n",
       "      <td>2019-08-03</td>\n",
       "      <td>0.034146</td>\n",
       "      <td>0.032723</td>\n",
       "    </tr>\n",
       "    <tr>\n",
       "      <th>3</th>\n",
       "      <td>2019-08-04</td>\n",
       "      <td>0.030445</td>\n",
       "      <td>0.029149</td>\n",
       "    </tr>\n",
       "    <tr>\n",
       "      <th>4</th>\n",
       "      <td>2019-08-05</td>\n",
       "      <td>0.031043</td>\n",
       "      <td>0.029878</td>\n",
       "    </tr>\n",
       "  </tbody>\n",
       "</table>\n",
       "</div>"
      ],
      "text/plain": [
       "        date  conversionA  conversionB\n",
       "0 2019-08-01     0.027816     0.028050\n",
       "1 2019-08-02     0.029148     0.033230\n",
       "2 2019-08-03     0.034146     0.032723\n",
       "3 2019-08-04     0.030445     0.029149\n",
       "4 2019-08-05     0.031043     0.029878"
      ]
     },
     "execution_count": 30,
     "metadata": {},
     "output_type": "execute_result"
    }
   ],
   "source": [
    "cum_A_con = cumulativeData[cumulativeData['group']=='A'][['date', 'conversion']]\n",
    "cum_B_con = cumulativeData[cumulativeData['group']=='B'][['date', 'conversion']]\n",
    "cum_con = cum_A_con.merge(cum_B_con, left_on='date', right_on='date', how='left', suffixes=['A', 'B'])\n",
    "cum_con.head()"
   ]
  },
  {
   "cell_type": "code",
   "execution_count": 31,
   "metadata": {},
   "outputs": [
    {
     "data": {
      "image/png": "[encoded data removed]",
      "text/plain": [
       "<Figure size 1152x432 with 1 Axes>"
      ]
     },
     "metadata": {},
     "output_type": "display_data"
    }
   ],
   "source": [
    "plt.figure(figsize=(16,6))\n",
    "sns.lineplot(cum_con['date'], (cum_con['conversionB'])/(cum_con['conversionA'])-1)\n",
    "plt.axhline(y=0, color='black', linestyle='--') \n",
    "plt.title('Изменения кумулятивной конверсии группы B к группе A')\n",
    "plt.xlabel('Время')\n",
    "plt.ylabel('Изменение')\n",
    "plt.show()"
   ]
  },
  {
   "cell_type": "markdown",
   "metadata": {},
   "source": [
    "> На графике мы можем увидеть, что группа А значительно уступает, однако в период с 1-5 августа видимо имеются выбросы которые искажают данные.А еще видим, что с середины теста отличие конверсии группы B относительно конверсии группы A снижается и, возможно, уже стабилизировалось."
   ]
  },
  {
   "cell_type": "markdown",
   "metadata": {},
   "source": [
    "### Постройте точечный график количества заказов по пользователям. Сделайте выводы и предположения."
   ]
  },
  {
   "cell_type": "code",
   "execution_count": 32,
   "metadata": {},
   "outputs": [
    {
     "data": {
      "image/png": "[encoded data removed]",
      "text/plain": [
       "<Figure size 1152x432 with 1 Axes>"
      ]
     },
     "metadata": {},
     "output_type": "display_data"
    }
   ],
   "source": [
    "plt.figure(figsize=(16,6))\n",
    "orders_per_user = orders.groupby('visitorId', as_index=False).agg({'transactionId': 'nunique'})\n",
    "sns.scatterplot(\n",
    "    data=orders_per_user, x=\"visitorId\", y=\"transactionId\",\n",
    "    sizes=(20, 200), hue_norm=(0, 7), legend=\"full\"\n",
    ")\n",
    "plt.title('Точечный график количества заказов по пользователям')\n",
    "plt.xlabel('Пользователи')\n",
    "plt.ylabel('Кол-во заказов')\n",
    "plt.show()"
   ]
  },
  {
   "cell_type": "markdown",
   "metadata": {},
   "source": [
    "> Как видно из графика выше большая часть заказов равна 1,однако мы имеем выбросы, когда люди совершали  6-10 заказов. Как раз эти выбросы и исказили наши данные по среднему чеку и конверсии."
   ]
  },
  {
   "cell_type": "code",
   "execution_count": 33,
   "metadata": {},
   "outputs": [
    {
     "data": {
      "text/html": [
       "<div>\n",
       "<style scoped>\n",
       "    .dataframe tbody tr th:only-of-type {\n",
       "        vertical-align: middle;\n",
       "    }\n",
       "\n",
       "    .dataframe tbody tr th {\n",
       "        vertical-align: top;\n",
       "    }\n",
       "\n",
       "    .dataframe thead th {\n",
       "        text-align: right;\n",
       "    }\n",
       "</style>\n",
       "<table border=\"1\" class=\"dataframe\">\n",
       "  <thead>\n",
       "    <tr style=\"text-align: right;\">\n",
       "      <th></th>\n",
       "      <th>visitorId</th>\n",
       "      <th>transactionId</th>\n",
       "      <th>group</th>\n",
       "    </tr>\n",
       "  </thead>\n",
       "  <tbody>\n",
       "    <tr>\n",
       "      <th>487</th>\n",
       "      <td>2038680547</td>\n",
       "      <td>8</td>\n",
       "      <td>B</td>\n",
       "    </tr>\n",
       "    <tr>\n",
       "      <th>569</th>\n",
       "      <td>2378935119</td>\n",
       "      <td>9</td>\n",
       "      <td>B</td>\n",
       "    </tr>\n",
       "    <tr>\n",
       "      <th>591</th>\n",
       "      <td>2458001652</td>\n",
       "      <td>11</td>\n",
       "      <td>B</td>\n",
       "    </tr>\n",
       "    <tr>\n",
       "      <th>1023</th>\n",
       "      <td>4256040402</td>\n",
       "      <td>11</td>\n",
       "      <td>B</td>\n",
       "    </tr>\n",
       "  </tbody>\n",
       "</table>\n",
       "</div>"
      ],
      "text/plain": [
       "       visitorId  transactionId group\n",
       "487   2038680547              8     B\n",
       "569   2378935119              9     B\n",
       "591   2458001652             11     B\n",
       "1023  4256040402             11     B"
      ]
     },
     "execution_count": 33,
     "metadata": {},
     "output_type": "execute_result"
    }
   ],
   "source": [
    "ordersPerUser = orders.groupby(['visitorId'], as_index=False).agg({'transactionId': 'nunique','group':'max'})\n",
    "ordersPerUser[ordersPerUser['transactionId']> 6]"
   ]
  },
  {
   "cell_type": "markdown",
   "metadata": {},
   "source": [
    "> Как можно заметить большая часть выбросов принадлежит группе B"
   ]
  },
  {
   "cell_type": "code",
   "execution_count": 34,
   "metadata": {},
   "outputs": [
    {
     "name": "stdout",
     "output_type": "stream",
     "text": [
      "95-й и 99-й перцентили количества заказов на пользователя: [2. 4.]\n"
     ]
    }
   ],
   "source": [
    "print('95-й и 99-й перцентили количества заказов на пользователя:',np.percentile(orders_per_user['transactionId'], [95, 99]))"
   ]
  },
  {
   "cell_type": "markdown",
   "metadata": {},
   "source": [
    "> Полученные данные о перцентилях дает нам понимание, что 95% процентов пользователей совершает 2 и менее покупки и то, что больше мы можем считать выбросами."
   ]
  },
  {
   "cell_type": "code",
   "execution_count": 35,
   "metadata": {},
   "outputs": [
    {
     "data": {
      "image/png": "[encoded data removed]",
      "text/plain": [
       "<Figure size 1152x432 with 1 Axes>"
      ]
     },
     "metadata": {},
     "output_type": "display_data"
    }
   ],
   "source": [
    "plt.figure(figsize=(16,6))\n",
    "plt.hist(orders_per_user[\"transactionId\"])\n",
    "plt.title('Гистограмма количества заказов по пользователям')\n",
    "plt.xlabel('Пользователи')\n",
    "plt.ylabel('Кол-во заказов')\n",
    "plt.show()"
   ]
  },
  {
   "cell_type": "markdown",
   "metadata": {},
   "source": [
    "Этот график наглядно показывает, что большая часть распологается в пределах 1-2 заказа."
   ]
  },
  {
   "cell_type": "markdown",
   "metadata": {},
   "source": [
    "### Постройте точечный график стоимостей заказов. Сделайте выводы и предположения."
   ]
  },
  {
   "cell_type": "code",
   "execution_count": 36,
   "metadata": {},
   "outputs": [
    {
     "data": {
      "image/png": "[encoded data removed]",
      "text/plain": [
       "<Figure size 1152x432 with 1 Axes>"
      ]
     },
     "metadata": {},
     "output_type": "display_data"
    }
   ],
   "source": [
    "plt.figure(figsize=(16,6))\n",
    "sns.scatterplot(\n",
    "    data=orders[\"revenue\"]\n",
    ")\n",
    "plt.title('Точечный график стоимости заказов по пользователям')\n",
    "plt.ylabel('Стоимость')\n",
    "plt.xlabel('Заказы')\n",
    "plt.show()"
   ]
  },
  {
   "cell_type": "markdown",
   "metadata": {},
   "source": [
    "> На данном графике мы видим, что кто-то из пользователей совершил покупку в 1.2млн,  что является выбросом."
   ]
  },
  {
   "cell_type": "code",
   "execution_count": 37,
   "metadata": {},
   "outputs": [
    {
     "data": {
      "text/html": [
       "<div>\n",
       "<style scoped>\n",
       "    .dataframe tbody tr th:only-of-type {\n",
       "        vertical-align: middle;\n",
       "    }\n",
       "\n",
       "    .dataframe tbody tr th {\n",
       "        vertical-align: top;\n",
       "    }\n",
       "\n",
       "    .dataframe thead th {\n",
       "        text-align: right;\n",
       "    }\n",
       "</style>\n",
       "<table border=\"1\" class=\"dataframe\">\n",
       "  <thead>\n",
       "    <tr style=\"text-align: right;\">\n",
       "      <th></th>\n",
       "      <th>transactionId</th>\n",
       "      <th>visitorId</th>\n",
       "      <th>date</th>\n",
       "      <th>revenue</th>\n",
       "      <th>group</th>\n",
       "    </tr>\n",
       "  </thead>\n",
       "  <tbody>\n",
       "    <tr>\n",
       "      <th>425</th>\n",
       "      <td>590470918</td>\n",
       "      <td>1920142716</td>\n",
       "      <td>2019-08-19</td>\n",
       "      <td>1294500</td>\n",
       "      <td>B</td>\n",
       "    </tr>\n",
       "  </tbody>\n",
       "</table>\n",
       "</div>"
      ],
      "text/plain": [
       "     transactionId   visitorId       date  revenue group\n",
       "425      590470918  1920142716 2019-08-19  1294500     B"
      ]
     },
     "execution_count": 37,
     "metadata": {},
     "output_type": "execute_result"
    }
   ],
   "source": [
    "orders[orders[\"revenue\"] > 1200000]"
   ]
  },
  {
   "cell_type": "markdown",
   "metadata": {},
   "source": [
    "Это покупатель группы B, значительно исказил наши данные выше."
   ]
  },
  {
   "cell_type": "code",
   "execution_count": 38,
   "metadata": {},
   "outputs": [
    {
     "data": {
      "image/png": "[encoded data removed]",
      "text/plain": [
       "<Figure size 1152x432 with 1 Axes>"
      ]
     },
     "metadata": {},
     "output_type": "display_data"
    }
   ],
   "source": [
    "plt.figure(figsize=(16,6))\n",
    "plt.hist(orders[\"revenue\"],bins =50)\n",
    "plt.title('Гистограмма стоимости  заказов по пользователям')\n",
    "plt.xlabel('Стоимость')\n",
    "plt.ylabel('Кол-во заказов')\n",
    "plt.xlim(0,201000)\n",
    "plt.show()"
   ]
  },
  {
   "cell_type": "markdown",
   "metadata": {},
   "source": [
    "> Как мы видим большая часть покупателей совершают покупки в пределах 25 тыс"
   ]
  },
  {
   "cell_type": "code",
   "execution_count": 39,
   "metadata": {},
   "outputs": [
    {
     "name": "stdout",
     "output_type": "stream",
     "text": [
      "95-й и 99-й перцентили количества заказов на пользователя: [28000.  58233.2]\n"
     ]
    }
   ],
   "source": [
    "print('95-й и 99-й перцентили количества заказов на пользователя:',np.percentile(orders[\"revenue\"], [95, 99]))"
   ]
  },
  {
   "cell_type": "code",
   "execution_count": 40,
   "metadata": {},
   "outputs": [
    {
     "data": {
      "image/png": "[encoded data removed]",
      "text/plain": [
       "<Figure size 1152x432 with 1 Axes>"
      ]
     },
     "metadata": {},
     "output_type": "display_data"
    }
   ],
   "source": [
    "plt.figure(figsize=(16,6))\n",
    "sns.scatterplot(\n",
    "    data=orders[\"revenue\"]\n",
    ")\n",
    "plt.title('Точечный график стоимости заказов по пользователям')\n",
    "plt.ylabel('Стоимость')\n",
    "plt.xlabel('Заказы')\n",
    "plt.ylim([0, 100000])\n",
    "plt.show()"
   ]
  },
  {
   "cell_type": "markdown",
   "metadata": {},
   "source": [
    "> Рассмотрев график ближе мы такжке можем заметить выбросы.Покупатели с чеком в 100тыс "
   ]
  },
  {
   "cell_type": "markdown",
   "metadata": {},
   "source": [
    "> Будем считать границу аномальных заказов равную 95 перцентилю, то есть те кто совершил покупки свыше 28000"
   ]
  },
  {
   "cell_type": "markdown",
   "metadata": {},
   "source": [
    "### Посчитайте статистическую значимость различий в конверсии между группами по «сырым» данным. Сделайте выводы и предположения."
   ]
  },
  {
   "cell_type": "markdown",
   "metadata": {},
   "source": [
    "Выдиляем кол-во покупок по пользователям в зависимости от группы"
   ]
  },
  {
   "cell_type": "code",
   "execution_count": 41,
   "metadata": {},
   "outputs": [],
   "source": [
    "ordersByUsersA = (\n",
    "    orders[orders['group'] == 'A']\n",
    "    .groupby('visitorId', as_index=False)\n",
    "    .agg({'transactionId': pd.Series.nunique})\n",
    ")\n",
    "ordersByUsersA.columns = ['userId', 'orders']\n",
    "\n",
    "ordersByUsersB = (\n",
    "    orders[orders['group'] == 'B']\n",
    "    .groupby('visitorId', as_index=False)\n",
    "    .agg({'transactionId': pd.Series.nunique})\n",
    ")\n",
    "ordersByUsersB.columns = ['userId', 'orders'] "
   ]
  },
  {
   "cell_type": "markdown",
   "metadata": {},
   "source": [
    "Для правильного расчета стат. значимости, в выборки добавим нулевые значения для тех, кто ничего не заказывал."
   ]
  },
  {
   "cell_type": "code",
   "execution_count": 42,
   "metadata": {},
   "outputs": [],
   "source": [
    "sampleA = pd.concat([ordersByUsersA['orders'],\n",
    "                     pd.Series(0, index=np.arange(visitors.query('group == \"A\"')['visitors']\n",
    "                    .sum() - len(ordersByUsersA['orders'])),\n",
    "                     name='orders')],axis=0)\n",
    "\n",
    "sampleB = pd.concat([ordersByUsersB['orders'],\n",
    "                     pd.Series(0, index=np.arange(visitors.query('group == \"B\"')['visitors']\n",
    "                    .sum() - len(ordersByUsersB['orders']))\n",
    "                    , name='orders')],axis=0)"
   ]
  },
  {
   "cell_type": "markdown",
   "metadata": {},
   "source": [
    "Создадтим функцию `shapiro` для критерия Шапиро-Уилка для проверки на нормальность"
   ]
  },
  {
   "cell_type": "code",
   "execution_count": 43,
   "metadata": {},
   "outputs": [],
   "source": [
    "def shapiro(sample):\n",
    "    \n",
    "    alpha = 0.05\n",
    "    results = st.shapiro(sample)\n",
    "    print('pvalue: ', results[1])\n",
    "\n",
    "    if results[1] < alpha:\n",
    "        print('Отвергаем нулевую гипотезу: распределение не нормально')\n",
    "    else:\n",
    "        print('Не получилось отвергнуть нулевую гипотезу, всё нормально') "
   ]
  },
  {
   "cell_type": "markdown",
   "metadata": {},
   "source": [
    "Создадим функцию `mantest` для расчета критерия Манна-Уитни и расчета относительной разности"
   ]
  },
  {
   "cell_type": "code",
   "execution_count": 44,
   "metadata": {},
   "outputs": [],
   "source": [
    "def mantest(old,new):\n",
    "    alpha = 0.05  \n",
    "    print('Тест Манна-Уитни')\n",
    "    results = st.mannwhitneyu(old, new,alternative = 'two-sided')\n",
    "\n",
    "    print('p-значение:{0:.3f} '.format(results.pvalue))\n",
    "\n",
    "    if results[1] < alpha:\n",
    "        print('Отвергаем нулевую гипотезу: разница статистически значима')\n",
    "    else:\n",
    "        print(\n",
    "        'Не получилось отвергнуть нулевую гипотезу, вывод о различии сделать нельзя'\n",
    "           ) \n",
    "    print('-'*50)\n",
    "    print(\"Относительная разница: {0:.3f}\".format(new.mean() / old.mean() - 1)) \n"
   ]
  },
  {
   "cell_type": "markdown",
   "metadata": {},
   "source": [
    "Проверим выборки на нормальность. Сформулируем гипотезы:\n",
    "\n",
    "H0: Конверсия по сырым данным имеет нормальное распределение\n",
    "\n",
    "H1: Распределение конверсии по сырым данным не нормально"
   ]
  },
  {
   "cell_type": "code",
   "execution_count": 45,
   "metadata": {},
   "outputs": [
    {
     "name": "stdout",
     "output_type": "stream",
     "text": [
      "pvalue:  0.0\n",
      "Отвергаем нулевую гипотезу: распределение не нормально\n",
      "pvalue:  0.0\n",
      "Отвергаем нулевую гипотезу: распределение не нормально\n"
     ]
    }
   ],
   "source": [
    "shapiro(sampleA)\n",
    "shapiro(sampleB)"
   ]
  },
  {
   "cell_type": "markdown",
   "metadata": {},
   "source": [
    "Распределение не нормально, расчитаем статистическую значимость различий тестом Уилкоксона-Манна-Уитни. Сформулируем гипотезы:\n",
    "\n",
    "H0: По сырым данным, конверсии в группах не имеют статистически значимых различий\n",
    "\n",
    "H1: По сырым данным, между конверсиями групп присутствуют статистически значимые различия"
   ]
  },
  {
   "cell_type": "code",
   "execution_count": 46,
   "metadata": {},
   "outputs": [
    {
     "name": "stdout",
     "output_type": "stream",
     "text": [
      "Тест Манна-Уитни\n",
      "p-значение:0.017 \n",
      "Отвергаем нулевую гипотезу: разница статистически значима\n",
      "--------------------------------------------------\n",
      "Относительная разница: 0.138\n"
     ]
    }
   ],
   "source": [
    "mantest(sampleA,sampleB)"
   ]
  },
  {
   "cell_type": "markdown",
   "metadata": {},
   "source": [
    "### Посчитайте статистическую значимость различий в среднем чеке заказа между группами по «сырым» данным. Сделайте выводы и предположения"
   ]
  },
  {
   "cell_type": "code",
   "execution_count": 47,
   "metadata": {},
   "outputs": [],
   "source": [
    "sampA = orders[orders['group']=='A']['revenue']\n",
    "sampB = orders[orders['group']=='B']['revenue']"
   ]
  },
  {
   "cell_type": "markdown",
   "metadata": {},
   "source": [
    "Проверим выборки на нормальность:\n",
    "\n",
    "H0: Средний чек по сырым данным имеет нормальное распределение\n",
    "H1: Распределение среднего чека по сырым данным не нормально"
   ]
  },
  {
   "cell_type": "code",
   "execution_count": 48,
   "metadata": {},
   "outputs": [
    {
     "name": "stdout",
     "output_type": "stream",
     "text": [
      "pvalue:  1.739703399801917e-34\n",
      "Отвергаем нулевую гипотезу: распределение не нормально\n",
      "pvalue:  0.0\n",
      "Отвергаем нулевую гипотезу: распределение не нормально\n"
     ]
    }
   ],
   "source": [
    "shapiro(sampA)\n",
    "shapiro(sampB)"
   ]
  },
  {
   "cell_type": "markdown",
   "metadata": {},
   "source": [
    "Гипотезы о нормальном распределение отвергли. Проведем тест Уилкоксона-Манна-Уитни. Сформулируем гипотезы:\n",
    "\n",
    "H0: Средние чеки групп по сырым данным не имеют статистически значимых различий\n",
    "H1: Присутствуют статистически значимые различия между средними чеками групп по сырым данным"
   ]
  },
  {
   "cell_type": "code",
   "execution_count": 49,
   "metadata": {},
   "outputs": [
    {
     "name": "stdout",
     "output_type": "stream",
     "text": [
      "Тест Манна-Уитни\n",
      "p-значение:0.729 \n",
      "Не получилось отвергнуть нулевую гипотезу, вывод о различии сделать нельзя\n",
      "--------------------------------------------------\n",
      "Относительная разница: 0.259\n"
     ]
    }
   ],
   "source": [
    "mantest(sampA,sampB)"
   ]
  },
  {
   "cell_type": "markdown",
   "metadata": {},
   "source": [
    "### Посчитайте статистическую значимость различий в конверсии между группами по «очищенным» данным. Сделайте выводы и предположения"
   ]
  },
  {
   "cell_type": "markdown",
   "metadata": {},
   "source": [
    "Отберем кол-во нерелевантных пользователей"
   ]
  },
  {
   "cell_type": "code",
   "execution_count": 50,
   "metadata": {},
   "outputs": [
    {
     "name": "stdout",
     "output_type": "stream",
     "text": [
      "Количество нерелевантных клиентов: 83\n"
     ]
    }
   ],
   "source": [
    "badOrderUsers = (orders\n",
    "                   .groupby('visitorId', as_index=False)\n",
    "                   .agg({'transactionId': 'nunique'})\n",
    "                   .query('transactionId > 2')['visitorId']\n",
    "                  )\n",
    "badCheckUsers = orders.query('revenue > 28000')['visitorId']\n",
    "badUsers = pd.concat([badOrderUsers, badCheckUsers]).drop_duplicates()\n",
    "print('Количество нерелевантных клиентов:', len(badUsers))"
   ]
  },
  {
   "cell_type": "markdown",
   "metadata": {},
   "source": [
    "В каждой из групп исключим нерелевантных пользователей"
   ]
  },
  {
   "cell_type": "code",
   "execution_count": 51,
   "metadata": {},
   "outputs": [],
   "source": [
    "filteredOrdersA = ordersByUsersA[np.logical_not(ordersByUsersA['userId'].isin(badUsers))]\n",
    "filteredSampleA = pd.concat([filteredOrdersA['orders'], \n",
    "                             pd.Series(0, index=np.arange(visitors.query('group == \"A\"')['visitors']\n",
    "                             .sum() - len(ordersByUsersA['orders'])), \n",
    "                             name='orders')],axis=0)"
   ]
  },
  {
   "cell_type": "code",
   "execution_count": 52,
   "metadata": {},
   "outputs": [],
   "source": [
    "filteredOrdersB = ordersByUsersB[np.logical_not(ordersByUsersB['userId'].isin(badUsers))]\n",
    "filteredSampleB = pd.concat([filteredOrdersB['orders'],\n",
    "                             pd.Series(0, index=np.arange(visitors.query('group == \"A\"')['visitors']\n",
    "                             .sum() - len(ordersByUsersB['orders'])),\n",
    "                              name='orders')],axis=0)"
   ]
  },
  {
   "cell_type": "markdown",
   "metadata": {},
   "source": [
    "Проверим выборки на нормальность.\n",
    "\n",
    "H0: Конверсия по очищенным данным имеет нормальное распределение\n",
    "H1: Распределение конверсии по очищенным данным не нормально"
   ]
  },
  {
   "cell_type": "code",
   "execution_count": 53,
   "metadata": {},
   "outputs": [
    {
     "name": "stdout",
     "output_type": "stream",
     "text": [
      "pvalue:  0.0\n",
      "Отвергаем нулевую гипотезу: распределение не нормально\n",
      "pvalue:  0.0\n",
      "Отвергаем нулевую гипотезу: распределение не нормально\n"
     ]
    }
   ],
   "source": [
    "shapiro(filteredSampleA)\n",
    "shapiro(filteredSampleB)"
   ]
  },
  {
   "cell_type": "markdown",
   "metadata": {},
   "source": [
    "Выборки не нормальны. Проведем тест Уилкоксона-Манна-Уитни. Сформулируем гипотезы:\n",
    "\n",
    "H0: По очищенным данным, конверсии групп не имеют статистически значимых различий\n",
    "H1: Присутствуют статистически значимые различия между конверсиями групп по очищенным данным"
   ]
  },
  {
   "cell_type": "code",
   "execution_count": 54,
   "metadata": {},
   "outputs": [
    {
     "name": "stdout",
     "output_type": "stream",
     "text": [
      "Тест Манна-Уитни\n",
      "p-значение:0.008 \n",
      "Отвергаем нулевую гипотезу: разница статистически значима\n",
      "--------------------------------------------------\n",
      "Относительная разница: 0.187\n"
     ]
    }
   ],
   "source": [
    "mantest(filteredSampleA ,filteredSampleB)"
   ]
  },
  {
   "cell_type": "markdown",
   "metadata": {},
   "source": [
    "### Посчитайте статистическую значимость различий в среднем чеке заказа между группами по «очищенным» данным. Сделайте выводы и предположения."
   ]
  },
  {
   "cell_type": "markdown",
   "metadata": {},
   "source": [
    "Отфильруем нерелевантных пользователей, чтобы сделать вывод о стат. значимости в среднем чеке"
   ]
  },
  {
   "cell_type": "code",
   "execution_count": 55,
   "metadata": {},
   "outputs": [],
   "source": [
    "filtredSampA = orders[(orders['group'] == \"A\") & (np.logical_not(orders['visitorId'].isin(badUsers)))]['revenue']\n",
    "\n",
    "filtredSampB = orders[(orders['group'] == \"B\") & (np.logical_not(orders['visitorId'].isin(badUsers)))]['revenue']"
   ]
  },
  {
   "cell_type": "markdown",
   "metadata": {},
   "source": [
    "Проверим на нормальность\n",
    "\n",
    "H0: Средний чек по очищенным данным имеет нормальное распределение\n",
    "H1: Распределение среднего чека по очищенным данным не нормально"
   ]
  },
  {
   "cell_type": "code",
   "execution_count": 56,
   "metadata": {},
   "outputs": [
    {
     "name": "stdout",
     "output_type": "stream",
     "text": [
      "pvalue:  9.829744882191168e-24\n",
      "Отвергаем нулевую гипотезу: распределение не нормально\n",
      "pvalue:  3.233262361030969e-27\n",
      "Отвергаем нулевую гипотезу: распределение не нормально\n"
     ]
    }
   ],
   "source": [
    "shapiro(filtredSampA)\n",
    "shapiro(filtredSampB)"
   ]
  },
  {
   "cell_type": "markdown",
   "metadata": {},
   "source": [
    "Распределение не является нормальным. Расчитаем статистическую значимость различий тестом Уилкоксона-Манна-Уитни. Сформулируем гипотезы:\n",
    "\n",
    "H0: Средние чеки групп, по очищенным данным, не имеют статистически значимых различий\n",
    "H1: По очищенным данным, между средними чеками групп присутствуют статистически значимые различия"
   ]
  },
  {
   "cell_type": "code",
   "execution_count": 57,
   "metadata": {},
   "outputs": [
    {
     "name": "stdout",
     "output_type": "stream",
     "text": [
      "Тест Манна-Уитни\n",
      "p-значение:0.753 \n",
      "Не получилось отвергнуть нулевую гипотезу, вывод о различии сделать нельзя\n",
      "--------------------------------------------------\n",
      "Относительная разница: -0.022\n"
     ]
    }
   ],
   "source": [
    "mantest(filtredSampA,filtredSampB)"
   ]
  },
  {
   "cell_type": "markdown",
   "metadata": {},
   "source": [
    "По \"сырым\" данным сегмент B вел по среднему чеку на 26%, а теперь он проигрывает на 2%. Аномальные заказы сильно влияют на результаты теста"
   ]
  },
  {
   "cell_type": "markdown",
   "metadata": {},
   "source": [
    "### Вывод:\n",
    "При приотизации гипотез делаем больше ставку на метод RICE, так как он еще учитывает скольких пользователей затронит измениение. \n",
    "В лидеры вышли: Добавить форму подписки на все основные страницы,Добавить блоки рекомендаций товаров на сайт,Добавить два новых канала привлечения трафика. \n",
    "\n",
    "По графикам кумулятивной выручки и среднего чека в лидеры вышла группа B,но на этом этапе нас смущали выбросы.По графикам кумулятивной конверсии тенденция сохранялась. В целом тенденция у обоих групп одинакова,но аномалии в данных могли исказить данные.\n",
    "\n",
    "Построили отдельно графики, чтобы изучить выбросы и как в целом распределены данные. Допольнительно расчитали по метрикам 95 и 99 перцентиль. Основные занчительные выбросы принадлежали группе B.\n",
    "\n",
    "Далее проведя статистические тесты Манна-Уитни мы заметили. Что По сырым данным, между конверсиями групп присутствуют статистически значимые различия.А также присутствуют статистически значимые различия между конверсиями групп по очищенным данным. Но благодаря очистке данных от выбросов мы получили более ясную картину в разнице конверсий: прирост в группе В на 18%\n",
    "\n",
    "При рассмотрении статистических различий в среднем чек мы выяслнили, что yе получилось отвергнуть нулевую гипотезу, вывод о различии сделать нельзя. Для очищенных данных такая же картина. Но мы более чистую картину в относительной разнице: - 0.022, вмесето 0.225.\n",
    "\n",
    "### Резюме:\n",
    "Прeдлагается остановить тест и зафиксировать прирост конверсии на 18% в группе В. Нововая фича  значительно увеличило конверсию, но не повлияло на средний чек.\n",
    "\n",
    "\n"
   ]
  }
 ],
 "metadata": {
  "ExecuteTimeLog": [
   {
    "duration": 347,
    "start_time": "2021-11-22T13:31:17.327Z"
   },
   {
    "duration": 1182,
    "start_time": "2021-11-22T13:31:23.924Z"
   },
   {
    "duration": 16,
    "start_time": "2021-11-22T13:31:26.691Z"
   },
   {
    "duration": 10,
    "start_time": "2021-11-22T13:31:29.566Z"
   },
   {
    "duration": 357,
    "start_time": "2021-11-22T13:31:48.138Z"
   },
   {
    "duration": 8,
    "start_time": "2021-11-22T13:31:56.795Z"
   },
   {
    "duration": 11,
    "start_time": "2021-11-22T13:34:11.946Z"
   },
   {
    "duration": 346,
    "start_time": "2021-11-22T13:34:34.831Z"
   },
   {
    "duration": 12,
    "start_time": "2021-11-22T13:34:42.247Z"
   },
   {
    "duration": 10,
    "start_time": "2021-11-22T13:34:44.802Z"
   },
   {
    "duration": 4,
    "start_time": "2021-11-22T13:34:52.695Z"
   },
   {
    "duration": 10,
    "start_time": "2021-11-22T13:34:55.315Z"
   },
   {
    "duration": 1127,
    "start_time": "2021-11-22T13:41:47.280Z"
   },
   {
    "duration": 16,
    "start_time": "2021-11-22T13:41:48.409Z"
   },
   {
    "duration": 32,
    "start_time": "2021-11-22T13:41:48.427Z"
   },
   {
    "duration": 22,
    "start_time": "2021-11-22T13:41:48.461Z"
   },
   {
    "duration": 22,
    "start_time": "2021-11-22T13:41:48.484Z"
   },
   {
    "duration": 34,
    "start_time": "2021-11-22T13:41:48.507Z"
   },
   {
    "duration": 24,
    "start_time": "2021-11-22T13:41:48.543Z"
   },
   {
    "duration": 4052,
    "start_time": "2021-11-22T13:41:48.569Z"
   },
   {
    "duration": -543,
    "start_time": "2021-11-22T13:41:53.168Z"
   },
   {
    "duration": -549,
    "start_time": "2021-11-22T13:41:53.175Z"
   },
   {
    "duration": -600,
    "start_time": "2021-11-22T13:41:53.228Z"
   },
   {
    "duration": -640,
    "start_time": "2021-11-22T13:41:53.268Z"
   },
   {
    "duration": -647,
    "start_time": "2021-11-22T13:41:53.276Z"
   },
   {
    "duration": -654,
    "start_time": "2021-11-22T13:41:53.284Z"
   },
   {
    "duration": -662,
    "start_time": "2021-11-22T13:41:53.293Z"
   },
   {
    "duration": -668,
    "start_time": "2021-11-22T13:41:53.300Z"
   },
   {
    "duration": -674,
    "start_time": "2021-11-22T13:41:53.307Z"
   },
   {
    "duration": -680,
    "start_time": "2021-11-22T13:41:53.313Z"
   },
   {
    "duration": -689,
    "start_time": "2021-11-22T13:41:53.323Z"
   },
   {
    "duration": -694,
    "start_time": "2021-11-22T13:41:53.329Z"
   },
   {
    "duration": -703,
    "start_time": "2021-11-22T13:41:53.339Z"
   },
   {
    "duration": -708,
    "start_time": "2021-11-22T13:41:53.345Z"
   },
   {
    "duration": -714,
    "start_time": "2021-11-22T13:41:53.352Z"
   },
   {
    "duration": -720,
    "start_time": "2021-11-22T13:41:53.359Z"
   },
   {
    "duration": -746,
    "start_time": "2021-11-22T13:41:53.386Z"
   },
   {
    "duration": -753,
    "start_time": "2021-11-22T13:41:53.394Z"
   },
   {
    "duration": -761,
    "start_time": "2021-11-22T13:41:53.402Z"
   },
   {
    "duration": -769,
    "start_time": "2021-11-22T13:41:53.411Z"
   },
   {
    "duration": -773,
    "start_time": "2021-11-22T13:41:53.420Z"
   },
   {
    "duration": -779,
    "start_time": "2021-11-22T13:41:53.427Z"
   },
   {
    "duration": -785,
    "start_time": "2021-11-22T13:41:53.435Z"
   },
   {
    "duration": -792,
    "start_time": "2021-11-22T13:41:53.443Z"
   },
   {
    "duration": -800,
    "start_time": "2021-11-22T13:41:53.452Z"
   },
   {
    "duration": -806,
    "start_time": "2021-11-22T13:41:53.459Z"
   },
   {
    "duration": -813,
    "start_time": "2021-11-22T13:41:53.467Z"
   },
   {
    "duration": -821,
    "start_time": "2021-11-22T13:41:53.476Z"
   },
   {
    "duration": -827,
    "start_time": "2021-11-22T13:41:53.484Z"
   },
   {
    "duration": -855,
    "start_time": "2021-11-22T13:41:53.513Z"
   },
   {
    "duration": -862,
    "start_time": "2021-11-22T13:41:53.521Z"
   },
   {
    "duration": -868,
    "start_time": "2021-11-22T13:41:53.528Z"
   },
   {
    "duration": -874,
    "start_time": "2021-11-22T13:41:53.535Z"
   },
   {
    "duration": -881,
    "start_time": "2021-11-22T13:41:53.544Z"
   },
   {
    "duration": -890,
    "start_time": "2021-11-22T13:41:53.554Z"
   },
   {
    "duration": -896,
    "start_time": "2021-11-22T13:41:53.561Z"
   },
   {
    "duration": -904,
    "start_time": "2021-11-22T13:41:53.569Z"
   },
   {
    "duration": -909,
    "start_time": "2021-11-22T13:41:53.575Z"
   },
   {
    "duration": -915,
    "start_time": "2021-11-22T13:41:53.582Z"
   },
   {
    "duration": -921,
    "start_time": "2021-11-22T13:41:53.589Z"
   },
   {
    "duration": -926,
    "start_time": "2021-11-22T13:41:53.595Z"
   },
   {
    "duration": -932,
    "start_time": "2021-11-22T13:41:53.602Z"
   },
   {
    "duration": -939,
    "start_time": "2021-11-22T13:41:53.610Z"
   },
   {
    "duration": -964,
    "start_time": "2021-11-22T13:41:53.636Z"
   },
   {
    "duration": -970,
    "start_time": "2021-11-22T13:41:53.643Z"
   },
   {
    "duration": -977,
    "start_time": "2021-11-22T13:41:53.650Z"
   },
   {
    "duration": -983,
    "start_time": "2021-11-22T13:41:53.657Z"
   },
   {
    "duration": -988,
    "start_time": "2021-11-22T13:41:53.663Z"
   },
   {
    "duration": -995,
    "start_time": "2021-11-22T13:41:53.671Z"
   },
   {
    "duration": -1002,
    "start_time": "2021-11-22T13:41:53.679Z"
   },
   {
    "duration": 4893,
    "start_time": "2021-11-22T13:42:26.181Z"
   },
   {
    "duration": 49,
    "start_time": "2021-11-22T13:42:44.929Z"
   },
   {
    "duration": 7,
    "start_time": "2021-11-22T13:42:48.513Z"
   },
   {
    "duration": 9,
    "start_time": "2021-11-22T13:42:51.246Z"
   },
   {
    "duration": 6,
    "start_time": "2021-11-22T13:42:54.755Z"
   },
   {
    "duration": 6,
    "start_time": "2021-11-22T13:42:59.297Z"
   },
   {
    "duration": 8,
    "start_time": "2021-11-22T13:43:01.887Z"
   },
   {
    "duration": 5,
    "start_time": "2021-11-22T13:43:04.269Z"
   },
   {
    "duration": 5,
    "start_time": "2021-11-22T13:43:15.829Z"
   },
   {
    "duration": 5,
    "start_time": "2021-11-22T13:43:17.563Z"
   },
   {
    "duration": 41,
    "start_time": "2021-11-22T13:43:20.181Z"
   },
   {
    "duration": 161,
    "start_time": "2021-11-22T13:43:22.952Z"
   },
   {
    "duration": 8,
    "start_time": "2021-11-22T13:43:25.537Z"
   },
   {
    "duration": 4,
    "start_time": "2021-11-22T13:43:28.822Z"
   },
   {
    "duration": 17,
    "start_time": "2021-11-22T13:43:28.828Z"
   },
   {
    "duration": 12,
    "start_time": "2021-11-22T13:43:28.847Z"
   },
   {
    "duration": 6,
    "start_time": "2021-11-22T13:43:28.861Z"
   },
   {
    "duration": 10,
    "start_time": "2021-11-22T13:43:28.869Z"
   },
   {
    "duration": 5,
    "start_time": "2021-11-22T13:43:28.881Z"
   },
   {
    "duration": 12,
    "start_time": "2021-11-22T13:43:28.888Z"
   },
   {
    "duration": 52,
    "start_time": "2021-11-22T13:43:28.902Z"
   },
   {
    "duration": 6,
    "start_time": "2021-11-22T13:43:28.956Z"
   },
   {
    "duration": 11,
    "start_time": "2021-11-22T13:43:28.964Z"
   },
   {
    "duration": 7,
    "start_time": "2021-11-22T13:43:28.976Z"
   },
   {
    "duration": 5,
    "start_time": "2021-11-22T13:43:28.985Z"
   },
   {
    "duration": 7,
    "start_time": "2021-11-22T13:43:28.993Z"
   },
   {
    "duration": 8,
    "start_time": "2021-11-22T13:43:29.002Z"
   },
   {
    "duration": 35,
    "start_time": "2021-11-22T13:43:29.012Z"
   },
   {
    "duration": 7,
    "start_time": "2021-11-22T13:43:29.048Z"
   },
   {
    "duration": 21,
    "start_time": "2021-11-22T13:43:29.057Z"
   },
   {
    "duration": 190,
    "start_time": "2021-11-22T13:43:29.080Z"
   },
   {
    "duration": 8,
    "start_time": "2021-11-22T13:43:29.271Z"
   },
   {
    "duration": 328,
    "start_time": "2021-11-22T13:43:29.281Z"
   },
   {
    "duration": 4,
    "start_time": "2021-11-22T13:43:29.611Z"
   },
   {
    "duration": 390,
    "start_time": "2021-11-22T13:43:29.617Z"
   },
   {
    "duration": 17,
    "start_time": "2021-11-22T13:43:30.008Z"
   },
   {
    "duration": 488,
    "start_time": "2021-11-22T13:43:30.027Z"
   },
   {
    "duration": 6,
    "start_time": "2021-11-22T13:43:30.517Z"
   },
   {
    "duration": 171,
    "start_time": "2021-11-22T13:43:30.524Z"
   },
   {
    "duration": 15,
    "start_time": "2021-11-22T13:43:30.697Z"
   },
   {
    "duration": 508,
    "start_time": "2021-11-22T13:43:30.715Z"
   },
   {
    "duration": 29,
    "start_time": "2021-11-22T13:43:31.225Z"
   },
   {
    "duration": 449,
    "start_time": "2021-11-22T13:43:31.255Z"
   },
   {
    "duration": 490,
    "start_time": "2021-11-22T13:43:31.706Z"
   },
   {
    "duration": 109,
    "start_time": "2021-11-22T13:43:32.198Z"
   },
   {
    "duration": 4,
    "start_time": "2021-11-22T13:43:32.309Z"
   },
   {
    "duration": 382,
    "start_time": "2021-11-22T13:43:32.315Z"
   },
   {
    "duration": 454,
    "start_time": "2021-11-22T13:43:32.698Z"
   },
   {
    "duration": 9,
    "start_time": "2021-11-22T13:43:33.153Z"
   },
   {
    "duration": 399,
    "start_time": "2021-11-22T13:43:33.163Z"
   },
   {
    "duration": 4,
    "start_time": "2021-11-22T13:43:33.564Z"
   },
   {
    "duration": 456,
    "start_time": "2021-11-22T13:43:33.570Z"
   },
   {
    "duration": 130,
    "start_time": "2021-11-22T13:43:34.027Z"
   },
   {
    "duration": 9,
    "start_time": "2021-11-22T13:43:34.158Z"
   },
   {
    "duration": 2758,
    "start_time": "2021-11-22T13:43:34.168Z"
   },
   {
    "duration": 460,
    "start_time": "2021-11-22T13:43:36.927Z"
   },
   {
    "duration": 4,
    "start_time": "2021-11-22T13:43:37.388Z"
   },
   {
    "duration": 31,
    "start_time": "2021-11-22T13:43:37.393Z"
   },
   {
    "duration": 28,
    "start_time": "2021-11-22T13:43:37.426Z"
   },
   {
    "duration": 22,
    "start_time": "2021-11-22T13:43:37.456Z"
   },
   {
    "duration": 6,
    "start_time": "2021-11-22T13:43:37.479Z"
   },
   {
    "duration": 6,
    "start_time": "2021-11-22T13:43:37.486Z"
   },
   {
    "duration": 5,
    "start_time": "2021-11-22T13:43:37.493Z"
   },
   {
    "duration": 12,
    "start_time": "2021-11-22T13:43:37.500Z"
   },
   {
    "duration": 7,
    "start_time": "2021-11-22T13:43:37.513Z"
   },
   {
    "duration": 8,
    "start_time": "2021-11-22T13:43:37.521Z"
   },
   {
    "duration": 4,
    "start_time": "2021-11-22T13:43:37.544Z"
   },
   {
    "duration": 8,
    "start_time": "2021-11-22T13:43:37.550Z"
   },
   {
    "duration": 7,
    "start_time": "2021-11-22T13:43:37.559Z"
   },
   {
    "duration": 3,
    "start_time": "2021-11-22T13:43:37.568Z"
   },
   {
    "duration": 5,
    "start_time": "2021-11-22T13:43:37.573Z"
   },
   {
    "duration": 89,
    "start_time": "2021-11-22T14:11:39.235Z"
   },
   {
    "duration": 14,
    "start_time": "2021-11-22T14:17:08.064Z"
   },
   {
    "duration": 12,
    "start_time": "2021-11-22T14:17:47.090Z"
   },
   {
    "duration": 126,
    "start_time": "2021-11-22T14:19:37.347Z"
   },
   {
    "duration": 5,
    "start_time": "2021-11-22T14:29:50.009Z"
   },
   {
    "duration": 284,
    "start_time": "2021-11-22T14:29:59.124Z"
   },
   {
    "duration": 4,
    "start_time": "2021-11-22T14:30:08.325Z"
   },
   {
    "duration": 281,
    "start_time": "2021-11-22T14:30:22.123Z"
   },
   {
    "duration": 4,
    "start_time": "2021-11-22T14:30:27.787Z"
   },
   {
    "duration": 5,
    "start_time": "2021-11-22T14:31:30.328Z"
   },
   {
    "duration": 4,
    "start_time": "2021-11-22T14:31:51.848Z"
   },
   {
    "duration": 331,
    "start_time": "2021-11-22T14:33:54.712Z"
   },
   {
    "duration": 357,
    "start_time": "2021-11-22T14:34:09.324Z"
   },
   {
    "duration": 283,
    "start_time": "2021-11-22T14:34:40.674Z"
   },
   {
    "duration": 6,
    "start_time": "2021-11-22T14:35:09.596Z"
   },
   {
    "duration": 6,
    "start_time": "2021-11-22T14:35:16.479Z"
   },
   {
    "duration": 8,
    "start_time": "2021-11-22T14:35:25.166Z"
   },
   {
    "duration": 350,
    "start_time": "2021-11-22T14:35:35.487Z"
   },
   {
    "duration": 327,
    "start_time": "2021-11-22T14:38:22.535Z"
   },
   {
    "duration": 302,
    "start_time": "2021-11-22T18:57:29.279Z"
   },
   {
    "duration": 1139,
    "start_time": "2021-11-22T18:57:32.039Z"
   },
   {
    "duration": 16,
    "start_time": "2021-11-22T18:57:33.180Z"
   },
   {
    "duration": 12,
    "start_time": "2021-11-22T18:57:33.198Z"
   },
   {
    "duration": 7,
    "start_time": "2021-11-22T18:57:33.212Z"
   },
   {
    "duration": 9,
    "start_time": "2021-11-22T18:57:33.220Z"
   },
   {
    "duration": 14,
    "start_time": "2021-11-22T18:57:33.230Z"
   },
   {
    "duration": 9,
    "start_time": "2021-11-22T18:57:33.246Z"
   },
   {
    "duration": 50,
    "start_time": "2021-11-22T18:57:33.257Z"
   },
   {
    "duration": 6,
    "start_time": "2021-11-22T18:57:33.309Z"
   },
   {
    "duration": 10,
    "start_time": "2021-11-22T18:57:33.317Z"
   },
   {
    "duration": 6,
    "start_time": "2021-11-22T18:57:33.329Z"
   },
   {
    "duration": 5,
    "start_time": "2021-11-22T18:57:33.336Z"
   },
   {
    "duration": 11,
    "start_time": "2021-11-22T18:57:33.343Z"
   },
   {
    "duration": 10,
    "start_time": "2021-11-22T18:57:33.355Z"
   },
   {
    "duration": 5,
    "start_time": "2021-11-22T18:57:33.367Z"
   },
   {
    "duration": 5,
    "start_time": "2021-11-22T18:57:33.373Z"
   },
   {
    "duration": 21,
    "start_time": "2021-11-22T18:57:33.379Z"
   },
   {
    "duration": 147,
    "start_time": "2021-11-22T18:57:33.401Z"
   },
   {
    "duration": 8,
    "start_time": "2021-11-22T18:57:33.549Z"
   },
   {
    "duration": 302,
    "start_time": "2021-11-22T18:57:33.559Z"
   },
   {
    "duration": 4,
    "start_time": "2021-11-22T18:57:33.862Z"
   },
   {
    "duration": 370,
    "start_time": "2021-11-22T18:57:33.867Z"
   },
   {
    "duration": 15,
    "start_time": "2021-11-22T18:57:34.245Z"
   },
   {
    "duration": 468,
    "start_time": "2021-11-22T18:57:34.262Z"
   },
   {
    "duration": 13,
    "start_time": "2021-11-22T18:57:34.731Z"
   },
   {
    "duration": 149,
    "start_time": "2021-11-22T18:57:34.746Z"
   },
   {
    "duration": 15,
    "start_time": "2021-11-22T18:57:34.897Z"
   },
   {
    "duration": 384,
    "start_time": "2021-11-22T18:57:34.914Z"
   },
   {
    "duration": 15,
    "start_time": "2021-11-22T18:57:35.300Z"
   },
   {
    "duration": 463,
    "start_time": "2021-11-22T18:57:35.317Z"
   },
   {
    "duration": 401,
    "start_time": "2021-11-22T18:57:35.781Z"
   },
   {
    "duration": 96,
    "start_time": "2021-11-22T18:57:36.184Z"
   },
   {
    "duration": 4,
    "start_time": "2021-11-22T18:57:36.281Z"
   },
   {
    "duration": 366,
    "start_time": "2021-11-22T18:57:36.286Z"
   },
   {
    "duration": 434,
    "start_time": "2021-11-22T18:57:36.653Z"
   },
   {
    "duration": 8,
    "start_time": "2021-11-22T18:57:37.088Z"
   },
   {
    "duration": 382,
    "start_time": "2021-11-22T18:57:37.097Z"
   },
   {
    "duration": 4,
    "start_time": "2021-11-22T18:57:37.480Z"
   },
   {
    "duration": 416,
    "start_time": "2021-11-22T18:57:37.486Z"
   },
   {
    "duration": 108,
    "start_time": "2021-11-22T18:57:37.904Z"
   },
   {
    "duration": 8,
    "start_time": "2021-11-22T18:57:38.014Z"
   },
   {
    "duration": 567,
    "start_time": "2021-11-22T18:57:38.023Z"
   },
   {
    "duration": -48,
    "start_time": "2021-11-22T18:57:38.640Z"
   },
   {
    "duration": -115,
    "start_time": "2021-11-22T18:57:38.708Z"
   },
   {
    "duration": -125,
    "start_time": "2021-11-22T18:57:38.719Z"
   },
   {
    "duration": -132,
    "start_time": "2021-11-22T18:57:38.727Z"
   },
   {
    "duration": -142,
    "start_time": "2021-11-22T18:57:38.737Z"
   },
   {
    "duration": -150,
    "start_time": "2021-11-22T18:57:38.746Z"
   },
   {
    "duration": -162,
    "start_time": "2021-11-22T18:57:38.759Z"
   },
   {
    "duration": -170,
    "start_time": "2021-11-22T18:57:38.768Z"
   },
   {
    "duration": -178,
    "start_time": "2021-11-22T18:57:38.777Z"
   },
   {
    "duration": -185,
    "start_time": "2021-11-22T18:57:38.784Z"
   },
   {
    "duration": -193,
    "start_time": "2021-11-22T18:57:38.793Z"
   },
   {
    "duration": -200,
    "start_time": "2021-11-22T18:57:38.801Z"
   },
   {
    "duration": -221,
    "start_time": "2021-11-22T18:57:38.823Z"
   },
   {
    "duration": -229,
    "start_time": "2021-11-22T18:57:38.832Z"
   },
   {
    "duration": -239,
    "start_time": "2021-11-22T18:57:38.842Z"
   },
   {
    "duration": -246,
    "start_time": "2021-11-22T18:57:38.850Z"
   },
   {
    "duration": -254,
    "start_time": "2021-11-22T18:57:38.859Z"
   },
   {
    "duration": 4,
    "start_time": "2021-11-22T18:57:56.123Z"
   },
   {
    "duration": 3,
    "start_time": "2021-11-22T18:58:02.503Z"
   },
   {
    "duration": 19,
    "start_time": "2021-11-22T18:58:02.508Z"
   },
   {
    "duration": 10,
    "start_time": "2021-11-22T18:58:02.529Z"
   },
   {
    "duration": 7,
    "start_time": "2021-11-22T18:58:02.540Z"
   },
   {
    "duration": 17,
    "start_time": "2021-11-22T18:58:02.548Z"
   },
   {
    "duration": 5,
    "start_time": "2021-11-22T18:58:02.567Z"
   },
   {
    "duration": 12,
    "start_time": "2021-11-22T18:58:02.574Z"
   },
   {
    "duration": 52,
    "start_time": "2021-11-22T18:58:02.587Z"
   },
   {
    "duration": 6,
    "start_time": "2021-11-22T18:58:02.640Z"
   },
   {
    "duration": 19,
    "start_time": "2021-11-22T18:58:02.647Z"
   },
   {
    "duration": 17,
    "start_time": "2021-11-22T18:58:02.667Z"
   },
   {
    "duration": 5,
    "start_time": "2021-11-22T18:58:02.686Z"
   },
   {
    "duration": 8,
    "start_time": "2021-11-22T18:58:02.693Z"
   },
   {
    "duration": 7,
    "start_time": "2021-11-22T18:58:02.702Z"
   },
   {
    "duration": 5,
    "start_time": "2021-11-22T18:58:02.710Z"
   },
   {
    "duration": 4,
    "start_time": "2021-11-22T18:58:02.717Z"
   },
   {
    "duration": 40,
    "start_time": "2021-11-22T18:58:02.724Z"
   },
   {
    "duration": 168,
    "start_time": "2021-11-22T18:58:02.766Z"
   },
   {
    "duration": 8,
    "start_time": "2021-11-22T18:58:02.945Z"
   },
   {
    "duration": 378,
    "start_time": "2021-11-22T18:58:02.954Z"
   },
   {
    "duration": 11,
    "start_time": "2021-11-22T18:58:03.334Z"
   },
   {
    "duration": 375,
    "start_time": "2021-11-22T18:58:03.346Z"
   },
   {
    "duration": 22,
    "start_time": "2021-11-22T18:58:03.723Z"
   },
   {
    "duration": 465,
    "start_time": "2021-11-22T18:58:03.747Z"
   },
   {
    "duration": 5,
    "start_time": "2021-11-22T18:58:04.214Z"
   },
   {
    "duration": 158,
    "start_time": "2021-11-22T18:58:04.220Z"
   },
   {
    "duration": 22,
    "start_time": "2021-11-22T18:58:04.379Z"
   },
   {
    "duration": 393,
    "start_time": "2021-11-22T18:58:04.402Z"
   },
   {
    "duration": 15,
    "start_time": "2021-11-22T18:58:04.797Z"
   },
   {
    "duration": 466,
    "start_time": "2021-11-22T18:58:04.813Z"
   },
   {
    "duration": 409,
    "start_time": "2021-11-22T18:58:05.280Z"
   },
   {
    "duration": 100,
    "start_time": "2021-11-22T18:58:05.690Z"
   },
   {
    "duration": 3,
    "start_time": "2021-11-22T18:58:05.792Z"
   },
   {
    "duration": 373,
    "start_time": "2021-11-22T18:58:05.797Z"
   },
   {
    "duration": 426,
    "start_time": "2021-11-22T18:58:06.172Z"
   },
   {
    "duration": 9,
    "start_time": "2021-11-22T18:58:06.600Z"
   },
   {
    "duration": 374,
    "start_time": "2021-11-22T18:58:06.611Z"
   },
   {
    "duration": 4,
    "start_time": "2021-11-22T18:58:06.988Z"
   },
   {
    "duration": 420,
    "start_time": "2021-11-22T18:58:06.993Z"
   },
   {
    "duration": 120,
    "start_time": "2021-11-22T18:58:07.414Z"
   },
   {
    "duration": 8,
    "start_time": "2021-11-22T18:58:07.544Z"
   },
   {
    "duration": 2644,
    "start_time": "2021-11-22T18:58:07.553Z"
   },
   {
    "duration": 410,
    "start_time": "2021-11-22T18:58:10.199Z"
   },
   {
    "duration": 3,
    "start_time": "2021-11-22T18:58:10.611Z"
   },
   {
    "duration": 25,
    "start_time": "2021-11-22T18:58:10.616Z"
   },
   {
    "duration": 19,
    "start_time": "2021-11-22T18:58:10.643Z"
   },
   {
    "duration": 7,
    "start_time": "2021-11-22T18:58:10.664Z"
   },
   {
    "duration": 6,
    "start_time": "2021-11-22T18:58:10.673Z"
   },
   {
    "duration": 6,
    "start_time": "2021-11-22T18:58:10.680Z"
   },
   {
    "duration": 5,
    "start_time": "2021-11-22T18:58:10.688Z"
   },
   {
    "duration": 12,
    "start_time": "2021-11-22T18:58:10.694Z"
   },
   {
    "duration": 7,
    "start_time": "2021-11-22T18:58:10.708Z"
   },
   {
    "duration": 34,
    "start_time": "2021-11-22T18:58:10.717Z"
   },
   {
    "duration": 6,
    "start_time": "2021-11-22T18:58:10.753Z"
   },
   {
    "duration": 8,
    "start_time": "2021-11-22T18:58:10.760Z"
   },
   {
    "duration": 8,
    "start_time": "2021-11-22T18:58:10.769Z"
   },
   {
    "duration": 7,
    "start_time": "2021-11-22T18:58:10.779Z"
   },
   {
    "duration": 6,
    "start_time": "2021-11-22T18:58:10.787Z"
   }
  ],
  "kernelspec": {
   "display_name": "Python 3",
   "language": "python",
   "name": "python3"
  },
  "language_info": {
   "codemirror_mode": {
    "name": "ipython",
    "version": 3
   },
   "file_extension": ".py",
   "mimetype": "text/x-python",
   "name": "python",
   "nbconvert_exporter": "python",
   "pygments_lexer": "ipython3",
   "version": "3.7.6"
  },
  "toc": {
   "base_numbering": 1,
   "nav_menu": {},
   "number_sections": true,
   "sideBar": true,
   "skip_h1_title": true,
   "title_cell": "Table of Contents",
   "title_sidebar": "Contents",
   "toc_cell": false,
   "toc_position": {},
   "toc_section_display": true,
   "toc_window_display": false
  }
 },
 "nbformat": 4,
 "nbformat_minor": 4
}
